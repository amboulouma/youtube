{
 "cells": [
  {
   "cell_type": "markdown",
   "metadata": {},
   "source": [
    "# [Amin M. Boulouma Blog](https://amboulouma.com)\n",
    "\n",
    "## Coding Challenges and Algorithms - Algorithms in Python #1\n",
    "\n",
    "- Help the creator channel reach 20k subscribers. He will keep uploading quality content for you: [Amin M. Boulouma Channel](https://www.youtube.com/channel/UCOZbokHO727qeStxeYSKMUQ?sub_confirmation=1)\n",
    "- Those algorithms are best understood following the course: [Python Basics Tutorial](https://youtu.be/ne4Xsoe5Br8)"
   ]
  },
  {
   "cell_type": "markdown",
   "metadata": {},
   "source": [
    "<!--?title Circle-Circle Intersection -->\n",
    "\n",
    "# Circle-Circle Intersection\n",
    "\n",
    "You are given two circles on a 2D plane, each one described as coordinates of its center and its radius. Find the points of their intersection (possible cases: one or two points, no intersection or circles coincide).\n",
    "\n",
    "## Solution\n",
    "\n",
    "Let's reduce this problem to the [circle-line intersection problem](./geometry/circle-line-intersection.html).\n",
    "\n",
    "Assume without loss of generality that the first circle is centered at the origin (if this is not true, we can move the origin to the center of the first circle and adjust the coordinates of intersection points accordingly at output time). We have a system of two equations:\n",
    "\n",
    "$$x^2+y^2=r_1^2$$\n",
    "$$(x - x_2)^2 + (y - y_2)^2 = r_2^2$$\n",
    "\n",
    "Subtract the first equation from the second one to get rid of the second powers of variables:\n",
    "\n",
    "$$x^2+y^2=r_1^2$$\n",
    "$$x \\cdot (-2x_2) + y \\cdot (-2y_2) + (x_2^2+y_2^2+r_1^2-r_2^2) = 0$$\n",
    "\n",
    "Thus, we've reduced the original problem to the problem of finding intersections of the first circle and a line:\n",
    "\n",
    "$$Ax + By + C = 0$$\n",
    "$$A = -2x_2$$\n",
    "$$B = -2y_2$$\n",
    "$$C = x_2^2+y_2^2+r_1^2-r_2^2$$\n",
    "\n",
    "And this problem can be solved as described in the [corresponding article](./geometry/circle-line-intersection.html).\n",
    "\n",
    "The only degenerate case we need to consider separately is when the centers of the circles coincide. In this case $x_2=y_2=0$, and the line equation will be $C = r_1^2-r_2^2 = 0$. If the radii of the circles are the same, there are infinitely many intersection points, if they differ, there are no intersections.\n",
    "\n",
    "## Practice Problems\n",
    "\n",
    "- [RadarFinder](https://community.topcoder.com/stat?c=problem_statement&pm=7766)\n",
    "\n",
    "- [Runaway to a shadow - Codeforces Round #357](http://codeforces.com/problemset/problem/681/E)\n",
    "\n",
    "- [ASC 1 Problem F \"Get out!\"](http://codeforces.com/gym/100199/problem/F)\n",
    "\n",
    "- [SPOJ: CIRCINT](http://www.spoj.com/problems/CIRCINT/)\n",
    "\n",
    "- [UVA - 10301 - Rings and Glue](https://uva.onlinejudge.org/index.php?option=onlinejudge&page=show_problem&problem=1242)\n",
    "\n",
    "- [Codeforces 933C A Colorful Prospect](https://codeforces.com/problemset/problem/933/C)\n",
    "\n",
    "- [TIMUS 1429 Biscuits](https://acm.timus.ru/problem.aspx?space=1&num=1429)"
   ]
  }
 ],
 "metadata": {
  "jupytext": {
   "cell_metadata_filter": "-all",
   "main_language": "python",
   "notebook_metadata_filter": "-all"
  },
  "kernelspec": {
   "display_name": "Python 3",
   "language": "python",
   "name": "python3"
  },
  "language_info": {
   "codemirror_mode": {
    "name": "ipython",
    "version": 3
   },
   "file_extension": ".py",
   "mimetype": "text/x-python",
   "name": "python",
   "nbconvert_exporter": "python",
   "pygments_lexer": "ipython3",
   "version": "3.8.5"
  }
 },
 "nbformat": 4,
 "nbformat_minor": 4
}
