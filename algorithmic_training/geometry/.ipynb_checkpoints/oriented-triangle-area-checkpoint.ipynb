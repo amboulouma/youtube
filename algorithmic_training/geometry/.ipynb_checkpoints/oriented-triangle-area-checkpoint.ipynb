{
 "cells": [
  {
   "cell_type": "markdown",
   "metadata": {},
   "source": [
    "# [Amin M. Boulouma Blog](https://amboulouma.com)\n",
    "\n",
    "## Coding Challenges and Algorithms - Algorithms in Python #1\n",
    "\n",
    "- Help the creator channel reach 20k subscribers. He will keep uploading quality content for you: [Amin M. Boulouma Channel](https://www.youtube.com/channel/UCOZbokHO727qeStxeYSKMUQ?sub_confirmation=1)\n",
    "- Those algorithms are best understood following the course: [Python Basics Tutorial](https://youtu.be/ne4Xsoe5Br8)"
   ]
  },
  {
   "cell_type": "markdown",
   "metadata": {},
   "source": [
    "<!--?title Oriented area of a triangle-->\n",
    "# Oriented area of a triangle\n",
    "\n",
    "Given three points $p_1$, $p_2$ and $p_3$, calculate an oriented (signed) area of a triangle formed by them. The sign of the area is determined in the following way: imagine you are standing in the plane at point $p_1$ and are facing $p_2$. You go to $p_2$ and if $p_3$ is to your right (then we say the three vectors turn \"clockwise\"), the sign of the area is negative, otherwise it is positive. If the three points are collinear, the area is zero.\n",
    "\n",
    "Using this signed area, we can both get the regular unsigned area (as the absolute value of the signed area) and determine if the points lie clockwise or counterclockwise in their specified order (which is useful, for example, in convex hull algorithms)."
   ]
  },
  {
   "cell_type": "markdown",
   "metadata": {},
   "source": [
    "## Calculation\n",
    "We can use the fact that a determinant of a $2\\times 2$ matrix is equal to the signed area of a parallelogram spanned by column (or row) vectors of the matrix.\n",
    "This is analog to the definition of the cross product in 2D (see [Basic Geometry](geometry/basic-geometry.html)).\n",
    "By dividing this area by two we get the area of a triangle that we are interested in.\n",
    "We will use $\\vec{p_1p_2}$ and $\\vec{p_2p_3}$ as the column vectors and calculate a $2\\times 2$ determinant:\n",
    "$$2S=\\left|\\begin{matrix}x_2-x_1 & x_3-x_2\\\\\\\\y_2-y_1 & y_3-y_2\\end{matrix}\\right|=(x_2-x_1)(y_3-y_2)-(x_3-x_2)(y_2-y_1)$$\n",
    "\n",
    "## Implementation\n",
    "\n",
    "```cpp\n",
    "int signed_area_parallelogram(point2d p1, point2d p2, point2d p3) {\n",
    "    return cross(p2 - p1, p3 - p2);\n",
    "}\n",
    "\n",
    "double triangle_area(point2d p1, point2d p2, point2d p3) {\n",
    "    return abs(signed_area_parallelogram(p1, p2, p3)) / 2.0;\n",
    "}\n",
    "\n",
    "bool clockwise(point2d p1, point2d p2, point2d p3) {\n",
    "    return signed_area_parallelogram(p1, p2, p3) < 0;\n",
    "}\n",
    "\n",
    "bool counter_clockwise(point2d p1, point2d p2, point2d p3) {\n",
    "    return signed_area_parallelogram(p1, p2, p3) > 0;\n",
    "}\n",
    "```"
   ]
  },
  {
   "cell_type": "code",
   "execution_count": 2,
   "metadata": {},
   "outputs": [],
   "source": [
    "def function():\n",
    "    pass"
   ]
  },
  {
   "cell_type": "markdown",
   "metadata": {},
   "source": [
    "## Practice Problems\n",
    "* [Codechef - Chef and Polygons](https://www.codechef.com/problems/CHEFPOLY)"
   ]
  }
 ],
 "metadata": {
  "jupytext": {
   "cell_metadata_filter": "-all",
   "main_language": "python",
   "notebook_metadata_filter": "-all"
  },
  "kernelspec": {
   "display_name": "Python 3",
   "language": "python",
   "name": "python3"
  },
  "language_info": {
   "codemirror_mode": {
    "name": "ipython",
    "version": 3
   },
   "file_extension": ".py",
   "mimetype": "text/x-python",
   "name": "python",
   "nbconvert_exporter": "python",
   "pygments_lexer": "ipython3",
   "version": "3.8.5"
  }
 },
 "nbformat": 4,
 "nbformat_minor": 4
}
