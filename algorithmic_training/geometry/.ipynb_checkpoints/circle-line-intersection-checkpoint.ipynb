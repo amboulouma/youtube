{
 "cells": [
  {
   "cell_type": "markdown",
   "metadata": {},
   "source": [
    "# [Amin M. Boulouma Blog](https://amboulouma.com)\n",
    "\n",
    "## Coding Challenges and Algorithms - Algorithms in Python #1\n",
    "\n",
    "- Help the creator channel reach 20k subscribers. He will keep uploading quality content for you: [Amin M. Boulouma Channel](https://www.youtube.com/channel/UCOZbokHO727qeStxeYSKMUQ?sub_confirmation=1)\n",
    "- Those algorithms are best understood following the course: [Python Basics Tutorial](https://youtu.be/ne4Xsoe5Br8)"
   ]
  },
  {
   "cell_type": "markdown",
   "metadata": {},
   "source": [
    "<!--?title Circle-Line Intersection -->\n",
    "\n",
    "# Circle-Line Intersection\n",
    "\n",
    "Given the coordinates of the center of a circle and its radius, and the equation of a line, you're required to find the points of intersection.\n",
    "\n",
    "## Solution\n",
    "\n",
    "Instead of solving the system of two equations, we will approach the problem geometrically. This way we get a more accurate solution from the point of view of numerical stability.\n",
    "\n",
    "We assume without loss of generality that the circle is centered at the origin. If it's not, we translate it there and correct the $C$ constant in the line equation. So we have a circle centered at $(0,0)$ of radius $r$ and a line with equation $Ax+By+C=0$.\n",
    "\n",
    "Let's start by find the point on the line which is closest to the origin $(x_0, y_0)$. First, it has to be at a distance\n",
    "\n",
    "$$ d_0 = \\frac{|C|}{\\sqrt{A^2+B^2}} $$\n",
    "\n",
    "Second, since the vector $(A, B)$ is perpendicular to the line, the coordinates of the point must be proportional to the coordinates of this vector. Since we know the distance of the point to the origin, we just need to scale the vector $(A, B)$ to this length, and we'll get:\n",
    "\n",
    "$$ x_0 = - \\frac{AC}{A^2 + B^2} $$\n",
    "$$ y_0 = - \\frac{BC}{A^2 + B^2} $$\n",
    "\n",
    "The minus signs are not obvious, but they can be easily verified by substituting $x_0$ and $y_0$ in the equation of the line.\n",
    "\n",
    "At this stage we can determine the number of intersection points, and even find the solution when there is one or zero points. Indeed, if the distance from $(x_0, y_0)$ to the origin $d_0$ is greater than the radius $r$, the answer is **zero points**. If $d_0=r$, the answer is **one point** $(x_0, y_0)$. If $d_0<r$, there are two points of intersection, and now we have to find their coordinates.\n",
    "\n",
    "So, we know that the point $(x_0, y_0)$ is inside the circle. The two points of intersection, $(a_x, a_y)$ and $(b_x, b_y)$, must belong to the line $Ax+By+C=0$ and must be at the same distance $d$ from $(x_0, y_0)$, and this distance is easy to find:\n",
    "\n",
    "$$ d = \\sqrt{r^2 - \\frac{C^2}{A^2 + B^2}} $$\n",
    "\n",
    "Note that the vector $(-B, A)$ is collinear to the line, and thus we can find the points in question by adding and subtracting  vector $(-B,A)$, scaled to the length $d$, to the point $(x_0, y_0)$. \n",
    "\n",
    "Finally, the equations of the two points of intersection are:\n",
    "\n",
    "$$ m = \\sqrt{\\frac{d^2}{A^2 + B^2}} $$\n",
    "$$ a_x = x_0 + B \\cdot m, a_y = y_0 - A \\cdot m $$\n",
    "$$ b_x = x_0 - B \\cdot m, b_y = y_0 + A \\cdot m $$\n",
    "\n",
    "Had we solved the original system of equations using algebraic methods, we would likely get an answer in a different form with a larger error. The geometric method described here is more graphic and more accurate.\n",
    "\n",
    "## Implementation\n",
    "\n",
    "As indicated at the outset, we assume that the circle is centered at the origin, and therefore the input to the program is the radius $r$ of the circle and the parameters $A$, $B$ and $C$ of the equation of the line.\n",
    "\n",
    "```cpp\n",
    "double r, a, b, c; // given as input\n",
    "double x0 = -a*c/(a*a+b*b), y0 = -b*c/(a*a+b*b);\n",
    "if (c*c > r*r*(a*a+b*b)+EPS)\n",
    "    puts (\"no points\");\n",
    "else if (abs (c*c - r*r*(a*a+b*b)) < EPS) {\n",
    "    puts (\"1 point\");\n",
    "    cout << x0 << ' ' << y0 << '\\n';\n",
    "}\n",
    "else {\n",
    "    double d = r*r - c*c/(a*a+b*b);\n",
    "    double mult = sqrt (d / (a*a+b*b));\n",
    "    double ax, ay, bx, by;\n",
    "    ax = x0 + b * mult;\n",
    "    bx = x0 - b * mult;\n",
    "    ay = y0 - a * mult;\n",
    "    by = y0 + a * mult;\n",
    "    puts (\"2 points\");\n",
    "    cout << ax << ' ' << ay << '\\n' << bx << ' ' << by << '\\n';\n",
    "}\n",
    "```"
   ]
  },
  {
   "cell_type": "code",
   "execution_count": 1,
   "metadata": {},
   "outputs": [],
   "source": [
    "def function():\n",
    "    pass"
   ]
  },
  {
   "cell_type": "markdown",
   "metadata": {},
   "source": [
    "## Practice Problems\n",
    "\n",
    "- [CODECHEF: ANDOOR](https://www.codechef.com/problems/ANDOOR)"
   ]
  }
 ],
 "metadata": {
  "jupytext": {
   "cell_metadata_filter": "-all",
   "main_language": "python",
   "notebook_metadata_filter": "-all"
  },
  "kernelspec": {
   "display_name": "Python 3",
   "language": "python",
   "name": "python3"
  },
  "language_info": {
   "codemirror_mode": {
    "name": "ipython",
    "version": 3
   },
   "file_extension": ".py",
   "mimetype": "text/x-python",
   "name": "python",
   "nbconvert_exporter": "python",
   "pygments_lexer": "ipython3",
   "version": "3.8.5"
  }
 },
 "nbformat": 4,
 "nbformat_minor": 4
}
