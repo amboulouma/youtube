{
 "cells": [
  {
   "cell_type": "markdown",
   "metadata": {},
   "source": [
    "# [Amin M. Boulouma Blog](https://amboulouma.com)\n",
    "\n",
    "## Coding Challenges and Algorithms - Algorithms in Python #1\n",
    "\n",
    "- Help the creator channel reach 20k subscribers. He will keep uploading quality content for you: [Amin M. Boulouma Channel](https://www.youtube.com/channel/UCOZbokHO727qeStxeYSKMUQ?sub_confirmation=1)\n",
    "- Those algorithms are best understood following the course: [Python Basics Tutorial](https://youtu.be/ne4Xsoe5Br8)"
   ]
  },
  {
   "cell_type": "markdown",
   "metadata": {},
   "source": [
    "<!--?title Length of the union of segments -->\n",
    "# Length of the union of segments\n",
    "\n",
    "Given $n$ segments on a line, each described by a pair of coordinates $(a_{i1}, a_{i2})$.\n",
    "We have to find the length of their union.\n",
    "\n",
    "The following algorithm was proposed by Klee in 1977.\n",
    "It works in $O(n\\log n)$ and has been proven to be the asymptotically optimal.\n",
    "\n",
    "## Solution\n",
    "\n",
    "We store in an array $x$ the endpoints of all the segments sorted by their values.\n",
    "And additionally we store whether it is a left end or a right end of a segment.\n",
    "Now we iterate over the array, keeping a counter $c$ of currently opened segments.\n",
    "Whenever the current element is a left end, we increase this counter, and otherwise we decrease it.\n",
    "To compute the answer, we take the length between the last to $x$ values $x_i - x_{i-1}$, whenever we come to a new coordinate, and there is currently at least one segment is open.\n",
    "\n",
    "## Implementation\n",
    "\n",
    "```cpp\n",
    "int length_union(const vector<pair<int, int>> &a) {\n",
    "    int n = a.size();\n",
    "    vector<pair<int, bool>> x(n*2);\n",
    "    for (int i = 0; i < n; i++) {\n",
    "        x[i*2] = {a[i].first, false};\n",
    "        x[i*2+1] = {a[i].second, true};\n",
    "    }\n",
    "\n",
    "    sort(x.begin(), x.end());\n",
    "\n",
    "    int result = 0;\n",
    "    int c = 0;\n",
    "    for (int i = 0; i < n * 2; i++) {\n",
    "        if (i > 0 && x[i].first > x[i-1].first && c > 0)\n",
    "            result += x[i].first - x[i-1].first;\n",
    "        if (x[i].second)\n",
    "            c--;\n",
    "        else\n",
    "            c++;\n",
    "    }\n",
    "    return result;\n",
    "}\n",
    "```"
   ]
  },
  {
   "cell_type": "code",
   "execution_count": 2,
   "metadata": {},
   "outputs": [],
   "source": [
    "def function():\n",
    "    pass"
   ]
  }
 ],
 "metadata": {
  "jupytext": {
   "cell_metadata_filter": "-all",
   "main_language": "python",
   "notebook_metadata_filter": "-all"
  },
  "kernelspec": {
   "display_name": "Python 3",
   "language": "python",
   "name": "python3"
  },
  "language_info": {
   "codemirror_mode": {
    "name": "ipython",
    "version": 3
   },
   "file_extension": ".py",
   "mimetype": "text/x-python",
   "name": "python",
   "nbconvert_exporter": "python",
   "pygments_lexer": "ipython3",
   "version": "3.8.5"
  }
 },
 "nbformat": 4,
 "nbformat_minor": 4
}
