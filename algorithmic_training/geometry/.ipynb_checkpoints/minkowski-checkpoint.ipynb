{
 "cells": [
  {
   "cell_type": "markdown",
   "metadata": {},
   "source": [
    "# [Amin M. Boulouma Blog](https://amboulouma.com)\n",
    "\n",
    "## Coding Challenges and Algorithms - Algorithms in Python #1\n",
    "\n",
    "- Help the creator channel reach 20k subscribers. He will keep uploading quality content for you: [Amin M. Boulouma Channel](https://www.youtube.com/channel/UCOZbokHO727qeStxeYSKMUQ?sub_confirmation=1)\n",
    "- Those algorithms are best understood following the course: [Python Basics Tutorial](https://youtu.be/ne4Xsoe5Br8)"
   ]
  },
  {
   "cell_type": "markdown",
   "metadata": {},
   "source": [
    "<!--?title Minkowski sum of convex polygons -->\n",
    "# Minkowski sum of convex polygons\n",
    "\n",
    "## Definition\n",
    "Consider two sets $A$ and $B$ of points on a plane. Minkowski sum $A + B$ is defined as $\\\\{a + b| a \\in A, b \\in B\\\\}$.\n",
    "Here we will consider the case when $A$ and $B$ consist of convex polygons $P$ and $Q$ with their interiors.\n",
    "Throughout this article we will identify polygons with ordered sequences of their vertices, so that notation like $|P|$ or\n",
    "$P_i$ makes sense.\n",
    "It turns out that the sum of convex polygons $P$ and $Q$ is a convex polygon with at most $|P| + |Q|$ vertices.\n",
    "\n",
    "## Algorithm\n",
    "\n",
    "Here we consider the polygons to be cyclically enumerated, i. e. $P_{|P|} = P_0,\\ Q_{|Q|} = Q_0$ and so on.\n",
    "\n",
    "Since the size of the sum is linear in terms of the sizes of initial polygons, we should aim at finding a linear-time algorithm.\n",
    "Suppose that both polygons are ordered counter-clockwise. Consider sequences of edges $\\\\{\\overrightarrow{P_iP_{i+1}}\\\\}$\n",
    "and $\\\\{\\overrightarrow{Q_jQ_{j+1}}\\\\}$ ordered by polar angle. We claim that the sequence of edges of $P + Q$ can be obtained by merging\n",
    "these two sequences preserving polar angle order and replacing consequitive co-directed vectors with their sum. Straightforward usage of this idea results\n",
    "in a linear-time algorithm, however, restoring the vertices of $P + Q$ from the sequence of sides requires repeated addition of vectors,\n",
    "which may introduce unwanted precision issues if we're working with floating-point coordinates, so we will describe a slight\n",
    "modification of this idea."
   ]
  },
  {
   "cell_type": "markdown",
   "metadata": {},
   "source": [
    "Firstly we should reorder the vertices in such a way that the first vertex\n",
    "of each polygon has the lowest y-coordinate (in case of several such vertices pick the one with the smallest x-coordinate). After that the sides of both polygons\n",
    "will become sorted by polar angle, so there is no need to sort them manually.\n",
    "Now we create two pointers $i$ (pointing to a vertex of $P$) and $j$ (pointing to a vertex of $Q$), both initially set to 0.\n",
    "We repeat the following steps while $i < |P|$ or $j < |Q|$.\n",
    "\n",
    "1. Append $P_i + Q_j$ to $P + Q$.\n",
    "\n",
    "2. Compare polar angles of $\\overrightarrow{P_iP_{i + 1}}$ and $\\overrightarrow{Q_jQ_{j+1}}$.\n",
    "\n",
    "3. Increment the pointer which corresponds to the smallest angle (if the angles are equal, increment both).\n",
    "\n",
    "## Visualization\n",
    "\n",
    "Here is a nice visualization, which may help you understand what is going on.\n",
    "\n",
    "<center>![Visual](&imgroot&/minkowski.gif)</center>\n",
    "\n",
    "## Distance between two polygons\n",
    "One of the most common applications of Minkowski sum is computing the distance between two convex polygons (or simply checking whether they intersect).\n",
    "The distance between two convex polygons $P$ and $Q$ is defined as $\\min\\limits_{a \\in P, b \\in Q} ||a - b||$. One can note that\n",
    "the distance is always attained between two vertices or a vertex and an edge, so we can easily find the distance in $O(|P||Q|)$. However,\n",
    "with clever usage of Minkowski sum we can reduce the complexity to $O(|P| + |Q|)$.\n",
    "\n",
    "If we reflect $Q$ through the point $(0, 0)$ obtaining polygon $-Q$, the problem boils down to finding the smallest distance between a point in\n",
    "$P + (-Q)$ and $(0, 0)$. We can find that distance in linear time using the following idea.\n",
    "If $(0, 0)$ is inside or on the boundary of polygon, the distance is $0$, otherwise the distance is attained between $(0, 0)$ and some vertex or edge of the polygon.\n",
    "Since Minkowski sum can be computed\n",
    "in linear time, we obtain a linear-time algorithm for finding the distance between two convex polygons.\n",
    "\n",
    "## Implementation\n",
    "Below is the implementation of Minkowski sum for polygons with integer points. Note that in this case all computations can be done in integers since\n",
    "instead of computing polar angles and directly comparing them we can look at the sign of cross product of two vectors.\n",
    "\n",
    "```cpp \n",
    "struct pt{\n",
    "    long long x, y;\n",
    "    pt operator + (const pt & p) const {\n",
    "        return pt{x + p.x, y + p.y};\n",
    "    }\n",
    "    pt operator - (const pt & p) const {\n",
    "        return pt{x - p.x, y - p.y};\n",
    "    }\n",
    "    long long cross(const pt & p) const {\n",
    "        return x * p.y - y * p.x;\n",
    "    }\n",
    "};\n",
    "\n",
    "void reorder_polygon(vector<pt> & P){\n",
    "    size_t pos = 0;\n",
    "    for(size_t i = 1; i < P.size(); i++){\n",
    "        if(P[i].y < P[pos].y || (P[i].y == P[pos].y && P[i].x < P[pos].x))\n",
    "            pos = i;\n",
    "    }\n",
    "    rotate(P.begin(), P.begin() + pos, P.end());\n",
    "}\n",
    "\n",
    "vector<pt> minkowski(vector<pt> P, vector<pt> Q){\n",
    "    // the first vertex must be the lowest\n",
    "    reorder_polygon(P);\n",
    "    reorder_polygon(Q);\n",
    "    // we must ensure cyclic indexing\n",
    "    P.push_back(P[0]);\n",
    "    P.push_back(P[1]);\n",
    "    Q.push_back(Q[0]);\n",
    "    Q.push_back(Q[1]);\n",
    "    // main part\n",
    "    vector<pt> result;\n",
    "    size_t i = 0, j = 0;\n",
    "    while(i < P.size() - 2 || j < Q.size() - 2){\n",
    "        result.push_back(P[i] + Q[j]);\n",
    "        auto cross = (P[i + 1] - P[i]).cross(Q[j + 1] - Q[j]);\n",
    "        if(cross >= 0)\n",
    "            ++i;\n",
    "        if(cross <= 0)\n",
    "            ++j;\n",
    "    }\n",
    "    return result;\n",
    "}\n",
    "\n",
    "```"
   ]
  },
  {
   "cell_type": "code",
   "execution_count": 2,
   "metadata": {},
   "outputs": [],
   "source": [
    "def function():\n",
    "    pass"
   ]
  },
  {
   "cell_type": "markdown",
   "metadata": {},
   "source": [
    "## Problems\n",
    " * [Codeforces 87E Mogohu-Rea Idol](https://codeforces.com/problemset/problem/87/E)\n",
    " * [Codeforces 1195F Geometers Anonymous Club](https://codeforces.com/contest/1195/problem/F)\n",
    " * [TIMUS 1894 Non-Flying Weather](https://acm.timus.ru/problem.aspx?space=1&num=1894)"
   ]
  }
 ],
 "metadata": {
  "jupytext": {
   "cell_metadata_filter": "-all",
   "main_language": "python",
   "notebook_metadata_filter": "-all"
  },
  "kernelspec": {
   "display_name": "Python 3",
   "language": "python",
   "name": "python3"
  },
  "language_info": {
   "codemirror_mode": {
    "name": "ipython",
    "version": 3
   },
   "file_extension": ".py",
   "mimetype": "text/x-python",
   "name": "python",
   "nbconvert_exporter": "python",
   "pygments_lexer": "ipython3",
   "version": "3.8.5"
  }
 },
 "nbformat": 4,
 "nbformat_minor": 4
}
