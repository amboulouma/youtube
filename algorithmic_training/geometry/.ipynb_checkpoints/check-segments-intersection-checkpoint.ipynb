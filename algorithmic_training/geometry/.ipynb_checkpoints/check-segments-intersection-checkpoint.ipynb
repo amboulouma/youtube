{
 "cells": [
  {
   "cell_type": "markdown",
   "metadata": {},
   "source": [
    "# [Amin M. Boulouma Blog](https://amboulouma.com)\n",
    "\n",
    "## Coding Challenges and Algorithms - Algorithms in Python #1\n",
    "\n",
    "- Help the creator channel reach 20k subscribers. He will keep uploading quality content for you: [Amin M. Boulouma Channel](https://www.youtube.com/channel/UCOZbokHO727qeStxeYSKMUQ?sub_confirmation=1)\n",
    "- Those algorithms are best understood following the course: [Python Basics Tutorial](https://youtu.be/ne4Xsoe5Br8)"
   ]
  },
  {
   "cell_type": "markdown",
   "metadata": {},
   "source": [
    "<!--?title Check if two segments intersect -->\n",
    "# Check if two segments intersect\n",
    "\n",
    "You are given two segments $(a, b)$ and $(c, d)$.\n",
    "You have to check if they intersect.\n",
    "Of course, you may find their intersection and check if it isn't empty, but this can't be done in integers for segments with integer coordinates.\n",
    "The approach described here can work in integers.\n",
    "\n",
    "## Algorithm\n",
    "\n",
    "Firstly, consider the case when the segments are part of the same line.\n",
    "In this case it is sufficient to check if their projections on $Ox$ and $Oy$ intersect.\n",
    "In the other case $a$ and $b$ must not lie on the same side of line $(c, d)$, and $c$ and $d$ must not lie on the same side of line $(a, b)$.\n",
    "It can be checked with a couple of cross products.\n",
    "\n",
    "## Implementation\n",
    "\n",
    "The given algorithm is implemented for integer points. Of course, it can be easily modified to work with doubles.\n",
    "\n",
    "```cpp \n",
    "struct pt {\n",
    "    long long x, y;\n",
    "    pt() {}\n",
    "    pt(long long _x, long long _y) : x(_x), y(_y) {}\n",
    "    pt operator-(const pt& p) const { return pt(x - p.x, y - p.y); }\n",
    "    long long cross(const pt& p) const { return x * p.y - y * p.x; }\n",
    "    long long cross(const pt& a, const pt& b) const { return (a - *this).cross(b - *this); }\n",
    "};\n",
    "\n",
    "int sgn(const long long& x) { return x >= 0 ? x ? 1 : 0 : -1; }\n",
    "\n",
    "bool inter1(long long a, long long b, long long c, long long d) {\n",
    "    if (a > b)\n",
    "        swap(a, b);\n",
    "    if (c > d)\n",
    "        swap(c, d);\n",
    "    return max(a, c) <= min(b, d);\n",
    "}\n",
    "\n",
    "bool check_inter(const pt& a, const pt& b, const pt& c, const pt& d) {\n",
    "    if (c.cross(a, d) == 0 && c.cross(b, d) == 0)\n",
    "        return inter1(a.x, b.x, c.x, d.x) && inter1(a.y, b.y, c.y, d.y);\n",
    "    return sgn(a.cross(b, c)) != sgn(a.cross(b, d)) &&\n",
    "           sgn(c.cross(d, a)) != sgn(c.cross(d, b));\n",
    "}\n",
    "```"
   ]
  },
  {
   "cell_type": "code",
   "execution_count": 1,
   "metadata": {},
   "outputs": [],
   "source": [
    "def function():\n",
    "    pass"
   ]
  }
 ],
 "metadata": {
  "jupytext": {
   "cell_metadata_filter": "-all",
   "main_language": "python",
   "notebook_metadata_filter": "-all"
  },
  "kernelspec": {
   "display_name": "Python 3",
   "language": "python",
   "name": "python3"
  },
  "language_info": {
   "codemirror_mode": {
    "name": "ipython",
    "version": 3
   },
   "file_extension": ".py",
   "mimetype": "text/x-python",
   "name": "python",
   "nbconvert_exporter": "python",
   "pygments_lexer": "ipython3",
   "version": "3.8.5"
  }
 },
 "nbformat": 4,
 "nbformat_minor": 4
}
