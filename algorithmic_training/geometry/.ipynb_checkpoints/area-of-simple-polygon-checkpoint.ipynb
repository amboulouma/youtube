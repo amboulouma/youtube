{
 "cells": [
  {
   "cell_type": "markdown",
   "metadata": {},
   "source": [
    "# [Amin M. Boulouma Blog](https://amboulouma.com)\n",
    "\n",
    "## Coding Challenges and Algorithms - Algorithms in Python #1\n",
    "\n",
    "- Help the creator channel reach 20k subscribers. He will keep uploading quality content for you: [Amin M. Boulouma Channel](https://www.youtube.com/channel/UCOZbokHO727qeStxeYSKMUQ?sub_confirmation=1)\n",
    "- Those algorithms are best understood following the course: [Python Basics Tutorial](https://youtu.be/ne4Xsoe5Br8)"
   ]
  },
  {
   "cell_type": "markdown",
   "metadata": {},
   "source": [
    "<!--?title Finding area of simple polygon in O(N) -->\n",
    "\n",
    "# Finding area of simple polygon in $O(N)$\n",
    "\n",
    "Let a simple polygon (i.e. without self intersection, not necessarily convex) be given. It is required to calculate its area given its vertices.\n",
    "\n",
    "## Method 1\n",
    "\n",
    "This is easy to do if we go through all edges and add trapezoid areas bounded by each edge and x-axis. The area needs to be taken with sign so that the extra area will be reduced. Hence, the formula is as follows:\n",
    "\n",
    "$$A = \\sum_{(p,q)\\in \\text{edges}} \\frac{(p_x - q_x) \\cdot (p_y + q_y)}{2}$$\n",
    "\n",
    "Code:\n",
    "\n",
    "```cpp\n",
    "double area(const vector<point>& fig) {\n",
    "    double res = 0;\n",
    "    for (unsigned i = 0; i < fig.size(); i++) {\n",
    "        point p = i ? fig[i - 1] : fig.back();\n",
    "        point q = fig[i];\n",
    "        res += (p.x - q.x) * (p.y + q.y);\n",
    "    }\n",
    "    return fabs(res) / 2;\n",
    "}\n",
    "```"
   ]
  },
  {
   "cell_type": "code",
   "execution_count": 2,
   "metadata": {},
   "outputs": [],
   "source": [
    "def function():\n",
    "    pass"
   ]
  },
  {
   "cell_type": "markdown",
   "metadata": {},
   "source": [
    "## Method 2\n",
    "We can choose a point $O$ arbitrarily, iterate over all edges adding the oriented area of the triangle formed by the edge and point $O$. Again, due to the sign of area, extra area will be reduced.\n",
    "\n",
    "This method is better as it can be generalized to more complex cases (such as when some sides are arcs instead of straight lines)"
   ]
  }
 ],
 "metadata": {
  "jupytext": {
   "cell_metadata_filter": "-all",
   "main_language": "python",
   "notebook_metadata_filter": "-all"
  },
  "kernelspec": {
   "display_name": "Python 3",
   "language": "python",
   "name": "python3"
  },
  "language_info": {
   "codemirror_mode": {
    "name": "ipython",
    "version": 3
   },
   "file_extension": ".py",
   "mimetype": "text/x-python",
   "name": "python",
   "nbconvert_exporter": "python",
   "pygments_lexer": "ipython3",
   "version": "3.8.5"
  }
 },
 "nbformat": 4,
 "nbformat_minor": 4
}
