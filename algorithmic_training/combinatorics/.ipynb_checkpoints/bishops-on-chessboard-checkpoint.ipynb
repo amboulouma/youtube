{
 "cells": [
  {
   "cell_type": "markdown",
   "metadata": {},
   "source": [
    "# [Amin M. Boulouma Blog](https://amboulouma.com)\n",
    "\n",
    "## Advanced Python - Algorithms in Python #1\n",
    "\n",
    "- Help the creator channel reach 20k subscribers. He will keep uploading quality content for you: [Amin M. Boulouma Channel](https://www.youtube.com/channel/UCOZbokHO727qeStxeYSKMUQ?sub_confirmation=1)\n",
    "- Those algorithms are best understood following the course: [Python Basics Tutorial](https://youtu.be/ne4Xsoe5Br8)"
   ]
  },
  {
   "cell_type": "markdown",
   "metadata": {},
   "source": [
    "<!--?title Placing Bishops on a Chessboard -->\n",
    "\n",
    "# Placing Bishops on a Chessboard\n",
    "\n",
    "Find the number of ways to place $K$ bishops on an $N \\times N$ chessboard so that no two bishops attack each other.\n",
    "\n",
    "## Algorithm\n",
    "\n",
    "This problem can be solved using dynamic programming.\n",
    "\n",
    "Let's enumerate the diagonals of the chessboard as follows: black diagonals have odd indices, white diagonals have even indices, and the diagonals are numbered in non-decreasing order of the number of squares in them. Here is an example for a $5 \\times 5$ chessboard.\n",
    "\n",
    "$$\\begin{matrix}\n",
    "\\bf{1} & 2 & \\bf{5} & 6 & \\bf{9} \\\\\\\n",
    "2 & \\bf{5} & 6 & \\bf{9} & 8 \\\\\\\n",
    "\\bf{5} & 6 & \\bf{9} & 8 & \\bf{7} \\\\\\\n",
    "6 & \\bf{9} & 8 & \\bf{7} & 4 \\\\\\\n",
    "\\bf{9} & 8 & \\bf{7} & 4 & \\bf{3} \\\\\\\n",
    "\\end{matrix}$$\n",
    "\n",
    "Let `D[i][j]` denote the number of ways to place `j` bishops on diagonals with indices up to `i` which have the same color as diagonal `i`.\n",
    "Then `i = 1...2N-1` and `j = 0...K`.\n",
    "\n",
    "We can calculate `D[i][j]` using only values of `D[i-2]` (we subtract 2 because we only consider diagonals of the same color as $i$).\n",
    "There are two ways to get `D[i][j]`.\n",
    "Either we place all `j` bishops on previous diagonals: then there are `D[i-2][j]` ways to achieve this.\n",
    "Or we place one bishop on diagonal `i` and `j-1` bishops on previous diagonals.\n",
    "The number of ways to do this equals the number of squares in diagonal `i` minus `j-1`, because each of `j-1` bishops placed on previous diagonals will block one square on the current diagonal.\n",
    "The number of squares in diagonal `i` can be calculated as follows:\n",
    "\n",
    "```cpp\n",
    "int squares (int i) {\n",
    "    if (i & 1)\n",
    "        return i / 4 * 2 + 1;\n",
    "    else\n",
    "        return (i - 1) / 4 * 2 + 2;\n",
    "}\n",
    "```"
   ]
  },
  {
   "cell_type": "code",
   "execution_count": 1,
   "metadata": {},
   "outputs": [],
   "source": [
    "def function():\n",
    "    pass"
   ]
  },
  {
   "cell_type": "markdown",
   "metadata": {},
   "source": [
    "The base case is simple: `D[i][0] = 1`, `D[1][1] = 1`.\n",
    "\n",
    "Once we have calculated all values of `D[i][j]`, the answer can be obtained as follows:\n",
    "consider all possible numbers of bishops placed on black diagonals `i=0...K`, with corresponding numbers of bishops on white diagonals `K-i`.\n",
    "The bishops placed on black and white diagonals never attack each other, so the placements can be done independently.\n",
    "The index of the last black diagonal is `2N-1`, the last white one is `2N-2`.\n",
    "For each `i` we add `D[2N-1][i] * D[2N-2][K-i]` to the answer.\n",
    "\n",
    "## Implementation\n",
    "\n",
    "```cpp\n",
    "int bishop_placements(int N, int K)\n",
    "{\n",
    "    if (K > 2 * N - 1)\n",
    "        return 0;\n",
    "\n",
    "    vector<vector<int>> D(N * 2, vector<int>(K + 1));\n",
    "    for (int i = 0; i < N * 2; ++i)\n",
    "        D[i][0] = 1;\n",
    "    D[1][1] = 1;\n",
    "    for (int i = 2; i < N * 2; ++i)\n",
    "        for (int j = 1; j <= K; ++j)\n",
    "            D[i][j] = D[i-2][j] + D[i-2][j-1] * (squares(i) - j + 1);\n",
    "\n",
    "    int ans = 0;\n",
    "    for (int i = 0; i <= K; ++i)\n",
    "        ans += D[N*2-1][i] * D[N*2-2][K-i];\n",
    "    return ans;\n",
    "}\n",
    "```"
   ]
  },
  {
   "cell_type": "code",
   "execution_count": 2,
   "metadata": {},
   "outputs": [],
   "source": [
    "def function():\n",
    "    pass"
   ]
  }
 ],
 "metadata": {
  "jupytext": {
   "cell_metadata_filter": "-all",
   "main_language": "python",
   "notebook_metadata_filter": "-all"
  },
  "kernelspec": {
   "display_name": "Python 3",
   "language": "python",
   "name": "python3"
  },
  "language_info": {
   "codemirror_mode": {
    "name": "ipython",
    "version": 3
   },
   "file_extension": ".py",
   "mimetype": "text/x-python",
   "name": "python",
   "nbconvert_exporter": "python",
   "pygments_lexer": "ipython3",
   "version": "3.8.5"
  }
 },
 "nbformat": 4,
 "nbformat_minor": 4
}
