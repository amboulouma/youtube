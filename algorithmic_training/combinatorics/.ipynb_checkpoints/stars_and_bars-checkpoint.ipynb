{
 "cells": [
  {
   "cell_type": "markdown",
   "metadata": {},
   "source": [
    "# [Amin M. Boulouma Blog](https://amboulouma.com)\n",
    "\n",
    "## Advanced Python - Algorithms in Python #1\n",
    "\n",
    "- Help the creator channel reach 20k subscribers. He will keep uploading quality content for you: [Amin M. Boulouma Channel](https://www.youtube.com/channel/UCOZbokHO727qeStxeYSKMUQ?sub_confirmation=1)\n",
    "- Those algorithms are best understood following the course: [Python Basics Tutorial](https://youtu.be/ne4Xsoe5Br8)"
   ]
  },
  {
   "cell_type": "markdown",
   "metadata": {},
   "source": [
    "<!--?title Stars and bars -->\n",
    "# Stars and bars\n",
    "\n",
    "Stars and bars is a mathematical technique for solving certain combinatorial problems.\n",
    "It occurs whenever you want to count the number of ways to group identical objects.\n",
    "\n",
    "## Theorem\n",
    "\n",
    "The number of ways to put $n$ identical objects into $k$ labeled boxes is\n",
    "$$\\binom{n + k - 1}{n}.$$\n",
    "\n",
    "The proof involves turning the objects into stars and separating the boxes using bars (therefore the name).\n",
    "E.g. we can represent with $\\bigstar | \\bigstar \\bigstar |~| \\bigstar \\bigstar$ the following situation:\n",
    "in the first box is one object, in the second box are two objects, the third one is empty and in the last box are two objects.\n",
    "This is one way of dividing 5 objects into 4 boxes.\n",
    "\n",
    "It should be pretty obvious, that every partition can be represented using $n$ stars and $k - 1$ bars and every stars and bars permutation using $n$ stars and $k - 1$ bars represents one partition.\n",
    "Therefore the number of ways to divide $n$ identical objects into $k$ labeled boxes is the same number as there are permutations of $n$ stars and $k - 1$ bars.\n",
    "The [Binomial Coefficient](./combinatorics/binomial-coefficients.html) gives us the desired formula.\n",
    "\n",
    "## Number of non-negative integer sums\n",
    "\n",
    "This problem is a direct application of the theorem.\n",
    "\n",
    "You want to count the number of solution of the equation \n",
    "$$x_1 + x_2 + \\dots + x_k = n$$\n",
    "with $x_i \\ge 0$.\n",
    "\n",
    "Again we can represent a solution using stars and bars.\n",
    "E.g. the solution $1 + 3 + 0 = 4$ for $n = 4$, $k = 3$ can be represented using $\\bigstar | \\bigstar \\bigstar \\bigstar |$.\n",
    "\n",
    "It is easy to see, that this is exactly the stars an bars theorem.\n",
    "Therefore the solution is $\\binom{n + k - 1}{n}$.\n",
    "\n",
    "## Number of lower-bound integer sums\n",
    "\n",
    "This can easily be extended to integer sums with different lower bounds.\n",
    "I.e. we want to count the number of solutions for  the equation\n",
    "$$x_1 + x_2 + \\dots + x_k = n$$\n",
    "with $x_i \\ge a_i$.\n",
    "\n",
    "After substituting $x_i' := x_i - a_i$ we receive the modified equation\n",
    "$$(x_1' + a_i) + (x_2' + a_i) + \\dots + (x_k' + a_k) = n$$\n",
    "$$\\Leftrightarrow ~ ~ x_1' + x_2' + \\dots + x_k' = n - a_1 - a_2 - \\dots - a_k$$\n",
    "with $x_i' \\ge 0$.\n",
    "So we have reduced the problem to the simpler case with $x_i' \\ge 0$ and again can apply the stars and bars theorem."
   ]
  }
 ],
 "metadata": {
  "jupytext": {
   "cell_metadata_filter": "-all",
   "main_language": "python",
   "notebook_metadata_filter": "-all"
  },
  "kernelspec": {
   "display_name": "Python 3",
   "language": "python",
   "name": "python3"
  },
  "language_info": {
   "codemirror_mode": {
    "name": "ipython",
    "version": 3
   },
   "file_extension": ".py",
   "mimetype": "text/x-python",
   "name": "python",
   "nbconvert_exporter": "python",
   "pygments_lexer": "ipython3",
   "version": "3.8.5"
  }
 },
 "nbformat": 4,
 "nbformat_minor": 4
}
