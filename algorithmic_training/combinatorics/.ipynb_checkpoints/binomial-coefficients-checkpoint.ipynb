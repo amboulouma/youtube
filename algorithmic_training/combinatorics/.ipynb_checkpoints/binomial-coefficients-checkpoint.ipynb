{
 "cells": [
  {
   "cell_type": "markdown",
   "metadata": {},
   "source": [
    "# [Amin M. Boulouma Blog](https://amboulouma.com)\n",
    "\n",
    "## Advanced Python - Algorithms in Python #1\n",
    "\n",
    "- Help the creator channel reach 20k subscribers. He will keep uploading quality content for you: [Amin M. Boulouma Channel](https://www.youtube.com/channel/UCOZbokHO727qeStxeYSKMUQ?sub_confirmation=1)\n",
    "- Those algorithms are best understood following the course: [Python Basics Tutorial](https://youtu.be/ne4Xsoe5Br8)"
   ]
  },
  {
   "cell_type": "markdown",
   "metadata": {},
   "source": [
    "<!--?title Binomial Coefficients-->\n",
    "# Binomial Coefficients\n",
    "\n",
    "Binomial coefficients $\\binom n k$ are the number of ways to select a set of $k$ elements from $n$ different elements without taking into account the order of arrangement of these elements (i.e., the number of unordered sets).\n",
    "\n",
    "Binomial coefficients are also the coefficients in the expansion of $(a + b) ^ n$ (so-called binomial theorem):\n",
    "\n",
    "$$ (a+b)^n = \\binom n 0 a^n + \\binom n 1 a^{n-1} b + \\binom n 2 a^{n-2} b^2 + \\cdots + \\binom n k a^{n-k} b^k + \\cdots + \\binom n n b^n $$\n",
    "\n",
    "It is believed that this formula, as well as the triangle which allows efficient calculation of the coefficients, was discovered by Blaise Pascal in the 17th century. Nevertheless, it was known to the Chinese mathematician Yang Hui, who lived in the 13th century. Perhaps it was discovered by a Persian scholar Omar Khayyam. Moreover, Indian mathematician Pingala, who lived  earlier in the 3rd. BC, got similar results. The merit of the Newton is that he generalized this formula for exponents that are not natural.\n",
    "\n",
    "## Calculation\n",
    "\n",
    "**Analytic formula** for the calculation:\n",
    "\n",
    "$$ \\binom n k = \\frac {n!} {k!(n-k)!} $$\n",
    "\n",
    "This formula can be easily deduced from the problem of ordered arrangement (number of ways to select $k$ different elements from $n$ different elements). First, let's count the number of ordered selections of $k$ elements. There are $n$ ways to select the first element, $n-1$ ways to select the second element, $n-2$ ways to select the third element, and so on. As a result, we get the formula of the number of ordered arrangements: $n (n-1) (n-2) \\cdots (n - k + 1) = \\frac {n!} {(n-k)!}$. We can easily move to unordered arrangements, noting that each unordered arrangement corresponds to exactly $k!$ ordered arrangements ($k!$ is the number of possible permutations of $k$ elements). We get the final formula by dividing $\\frac {n!} {(n-k)!}$ by $k!$.\n",
    "\n",
    "**Recurrence formula** (which is associated with the famous \"Pascal's Triangle\"):\n",
    "\n",
    "$$ \\binom n k = \\binom {n-1} {k-1} + \\binom {n-1} k $$\n",
    "\n",
    "It is easy to deduce this using the analytic formula.\n",
    "\n",
    "Note that for $n \\lt k$ the value of $\\binom n k$ is assumed to be zero.\n",
    "\n",
    "## Properties\n",
    "\n",
    "Binomial coefficients have many different properties. Here are the simplest of them:\n",
    "\n",
    "*   Symmetry rule:\n",
    "$$ \\binom n k = \\binom n {n-k} $$\n",
    "*   Factoring in:\n",
    "$$ \\binom n k = \\frac n k \\binom {n-1} {k-1} $$\n",
    "*   Sum over $k$:\n",
    "$$ \\sum_{k = 0}^n \\binom n k = 2 ^ n $$\n",
    "*   Sum over $n$:\n",
    "$$ \\sum_{m = 0}^n \\binom m k = \\binom {n + 1} {k + 1} $$\n",
    "*   Sum over $n$ and $k$:\n",
    "$$ \\sum_{k = 0}^m  \\binom {n + k} k = \\binom {n + m + 1} m $$\n",
    "*   Sum of the squares:\n",
    "$$ {\\binom n 0}^2 + {\\binom n 1}^2 + \\cdots + {\\binom n n}^2 = \\binom {2n} n $$\n",
    "*   Weighted sum:\n",
    "$$ 1 \\binom n 1 + 2 \\binom n 2 + \\cdots + n \\binom n n = n 2^{n-1} $$\n",
    "*   Connection with the [Fibonacci numbers](./algebra/fibonacci-numbers.html):\n",
    "$$ \\binom n 0 + \\binom {n-1} 1 + \\cdots + \\binom {n-k} k + \\cdots + \\binom 0 n = F_{n+1} $$\n",
    "\n",
    "## Calculation\n",
    "\n",
    "### Straightforward calculation using analytical formula\n",
    "\n",
    "The first, straightforward formula is very easy to code, but this method is likely to overflow even for relatively small values of $n$ and $k$ (even if the answer completely fit into some datatype, the calculation of the intermediate factorials can lead to overflow). Therefore, this method often can only be used with [long arithmetic](./algebra/big-integer.html):\n",
    "\n",
    "```cpp\n",
    "int C(int n, int k) {\n",
    "    int res = 1;\n",
    "    for (int i = n - k + 1; i <= n; ++i)\n",
    "        res *= i;\n",
    "    for (int i = 2; i <= k; ++i)\n",
    "        res /= i;\n",
    "    return res;\n",
    "}\n",
    "```"
   ]
  },
  {
   "cell_type": "code",
   "execution_count": 1,
   "metadata": {},
   "outputs": [],
   "source": [
    "def function():\n",
    "    pass"
   ]
  },
  {
   "cell_type": "markdown",
   "metadata": {},
   "source": [
    "### Improved implementation\n",
    "\n",
    "Note that in the above implementation numerator and denominator have the same number of factors ($k$), each of which is greater than or equal to 1. Therefore, we can replace our fraction with a product $k$ fractions, each of which is real-valued. However, on each step after multiplying current answer by each of the next fractions the answer will still be integer (this follows from the property of factoring in). C++ implementation:\n",
    "\n",
    "```cpp\n",
    "int C(int n, int k) {\n",
    "    double res = 1;\n",
    "    for (int i = 1; i <= k; ++i)\n",
    "        res = res * (n - k + i) / i;\n",
    "    return (int)(res + 0.01);\n",
    "}\n",
    "```"
   ]
  },
  {
   "cell_type": "code",
   "execution_count": 2,
   "metadata": {},
   "outputs": [],
   "source": [
    "def function():\n",
    "    pass"
   ]
  },
  {
   "cell_type": "markdown",
   "metadata": {},
   "source": [
    "Here we carefully cast the floating point number to an integer, taking into account that due to the accumulated errors, it may be slightly less than the true value (for example, $2.99999$ instead of $3$).\n",
    "\n",
    "### Pascal's Triangle\n",
    "\n",
    "By using the recurrence relation we can construct a table of binomial coefficients (Pascal's triangle) and take the result from it. The advantage of this method is that intermediate results never exceed the answer and calculating each new table element requires only one addition. The flaw is slow execution for large $n$ and $k$ if you just need a single value and not the whole table (because in order to calculate $\\binom n k$ you will need to build a table of all $\\binom i j, 1 \\le i \\le n, 1 \\le j \\le n$, or at least to $1 \\le j \\le \\min (i, 2k)$). The time complexity can be considered to be $\\mathcal{O}(n^2)$.\n",
    "C++ implementation:\n",
    "\n",
    "```cpp\n",
    "const int maxn = ...;\n",
    "int C[maxn + 1][maxn + 1];\n",
    "C[0][0] = 1;\n",
    "for (int n = 1; n <= maxn; ++n) {\n",
    "    C[n][0] = C[n][n] = 1;\n",
    "    for (int k = 1; k < n; ++k)\n",
    "        C[n][k] = C[n - 1][k - 1] + C[n - 1][k];\n",
    "}\n",
    "```"
   ]
  },
  {
   "cell_type": "code",
   "execution_count": 3,
   "metadata": {},
   "outputs": [],
   "source": [
    "def function():\n",
    "    pass"
   ]
  },
  {
   "cell_type": "markdown",
   "metadata": {},
   "source": [
    "If the entire table of values is not necessary, storing only two last rows of it is sufficient (current $n$-th row and the previous $n-1$-th).\n",
    "\n",
    "### Calculation in $O(1)$\n",
    "\n",
    "Finally, in some situations it is beneficial to precompute all the factorials in order to produce any necessary binomial coefficient with only two divisions later. This can be advantageous when using [long arithmetic](./algebra/big-integer.html), when the memory does not allow precomputation of the whole Pascal's triangle."
   ]
  },
  {
   "cell_type": "markdown",
   "metadata": {},
   "source": [
    "## Computing binomial coefficients modulo $m$.\n",
    "\n",
    "Quite often you come across the problem of computing binomial coefficients modulo some $m$.\n",
    "\n",
    "### Binomial coefficient for small $n$\n",
    "\n",
    "The previously discussed approach of Pascal's triangle can be used to calculate all values of $\\binom{n}{k} \\bmod m$ for reasonably small $n$, since it requires time complexity $\\mathcal{O}(n^2)$. This approach can handle any modulo, since only addition operations are used."
   ]
  },
  {
   "cell_type": "markdown",
   "metadata": {},
   "source": [
    "### Binomial coefficient modulo large prime\n",
    "\n",
    "The formula for the binomial coefficients is\n",
    "$$\\binom n k = \\frac {n!} {k!(n-k)!},$$\n",
    "so if we want to compute it modulo some prime $m > n$ we get\n",
    "$$\\binom n k \\equiv n! \\cdot (k!)^{-1} \\cdot ((n-k)!)^{-1} \\mod m.$$\n",
    "\n",
    "First we precompute all factorials modulo $m$ up to $\\text{MAXN}!$ in $O(\\text{MAXN})$ time.\n",
    "\n",
    "```cpp\n",
    "factorial[0] = 1;\n",
    "for (int i = 1; i <= MAXN; i++) {\n",
    "    factorial[i] = factorial[i - 1] * i % m;\n",
    "}\n",
    "```"
   ]
  },
  {
   "cell_type": "code",
   "execution_count": 4,
   "metadata": {},
   "outputs": [],
   "source": [
    "def function():\n",
    "    pass"
   ]
  },
  {
   "cell_type": "markdown",
   "metadata": {},
   "source": [
    "And afterwards we can compute the binomial coefficient in $O(\\log m)$ time.\n",
    "\n",
    "```cpp\n",
    "long long binomial_coefficient(int n, int k) {\n",
    "    return factorial[n] * inverse(factorial[k] * factorial[n - k] % m) % m;\n",
    "}\n",
    "```"
   ]
  },
  {
   "cell_type": "code",
   "execution_count": 5,
   "metadata": {},
   "outputs": [],
   "source": [
    "def function():\n",
    "    pass"
   ]
  },
  {
   "cell_type": "markdown",
   "metadata": {},
   "source": [
    "We even can compute the binomial coefficient in $O(1)$ time if we precompute the inverses of all factorials in $O(\\text{MAXN} \\log m)$ using the regular method for computing the inverse, or even in $O(\\text{MAXN})$ time using the congruence $(x!)^{-1} \\equiv ((x-1)!)^{-1} \\cdot x^{-1}$ and the method for [computing all inverses](./algebra/module-inverse.html#mod-inv-all-num) in $O(n)$.\n",
    "\n",
    "```cpp\n",
    "long long binomial_coefficient(int n, int k) {\n",
    "    return factorial[n] * inverse_factorial[k] % m * inverse_factorial[n - k] % m;\n",
    "}\n",
    "```"
   ]
  },
  {
   "cell_type": "code",
   "execution_count": 6,
   "metadata": {},
   "outputs": [],
   "source": [
    "def function():\n",
    "    pass"
   ]
  },
  {
   "cell_type": "markdown",
   "metadata": {},
   "source": [
    "### Binomial coefficient modulo prime power  {#mod-prime-pow}\n",
    "\n",
    "Here we want to compute the binomial coefficient modulo some prime power, i.e. $m = p^b$ for some prime $p$.\n",
    "If $p > \\max(k, n-k)$, then we can use the same method as described in the previous section.\n",
    "But if $p \\le \\max(k, n-k)$, then at least one of $k!$ and $(n-k)!$ are not coprime with $m$, and therefore we cannot compute the inverses - they don't exist.\n",
    "Nevertheless we can compute the binomial coefficient.\n",
    "\n",
    "The idea is the following:\n",
    "We compute for each $x!$ the biggest exponent $c$ such that $p^c$ divides $x!$, i.e. $p^c ~|~ x!$.\n",
    "Let $c(x)$ be that number.\n",
    "And let $g(x) := \\frac{x!}{p^{c(x)}}$.\n",
    "Then we can write the binomial coefficient as:\n",
    "$$\\binom n k = \\frac {g(n) p^{c(n)}} {g(k) p^{c(k)} g(n-k) p^{c(n-k)}} = \\frac {g(n)} {g(k) g(n-k)}p^{c(n) - c(k) - c(n-k)}$$\n",
    "\n",
    "The interesting thing is, that $g(x)$ is now free from the prime divisor $p$.\n",
    "Therefore $g(x)$ is coprime to m, and we can compute the modular inverses of $g(k)$ and $g(n-k)$.\n",
    "\n",
    "After precomputing all values for $g$ and $c$, which can be done efficiently using dynamic programming in $\\mathcal{O}(n)$, we can compute the binomial coefficient in $O(\\log m)$ time.\n",
    "Or precompute all inverses and all powers of $p$, and then compute the binomial coefficient in $O(1)$.\n",
    "\n",
    "Notice, if $c(n) - c(k) - c(n-k) \\ge b$, than $p^b ~|~ p^{c(n) - c(k) - c(n-k)}$, and the binomial coefficient is $0$.\n",
    "\n",
    "### Binomial coefficient modulo an arbitrary number\n",
    "\n",
    "Now we compute the binomial coefficient modulo some arbitrary modulus $m$.\n",
    "\n",
    "Let the prime factorization of $m$ be $m = p_1^{e_1} p_2^{e_2} \\cdots p_h^{e_h}$.\n",
    "We can compute the binomial coefficient modulo $p_i^{e_i}$ for every $i$.\n",
    "This gives us $h$ different congruences.\n",
    "Since all moduli $p_i^{e_i}$ are coprime, we can apply the [Chinese Remainder Theorem](./algebra/chinese-remainder-theorem.html) to compute the binomial coefficient modulo the product of the moduli, which is the desired binomial coefficient modulo $m$.\n",
    "\n",
    "### Binomial coefficient for large $n$ and small modulo\n",
    "\n",
    "When $n$ is too large, the $\\mathcal{O}(n)$ algorithms discussed above become impractical. However, if the modulo $m$ is small there are still ways to calculate $\\binom{n}{k} \\bmod m$.\n",
    "\n",
    "When the modulo $m$ is prime, there are 2 options:\n",
    "\n",
    "* [Lucas's theorem](https://en.wikipedia.org/wiki/Lucas's_theorem) can be applied which breaks the problem of computing $\\binom{n}{k} \\bmod m$ into $\\log_m n$ problems of the form $\\binom{x_i}{y_i} \\bmod m$ where $x_i, y_i < m$.  If each reduced coefficient is calculated using precomputed factorials and inverse factorials, the complexity is $\\mathcal{O}(m + \\log_m n)$.\n",
    "* The method of computing [factorial modulo P](./algebra/factorial-modulo.html) can be used to get the required $g$ and $c$ values and use them as described in the section of [modulo prime power](#mod-prime-pow). This takes $\\mathcal{O}(m \\log_m n)$.\n",
    "\n",
    "When $m$ is not prime but square-free, the prime factors of $m$ can be obtained and the coefficient modulo each prime factor can be calculated using either of the above methods, and the overall answer can be obtained by the Chinese Remainder Theorem.\n",
    "\n",
    "When $m$ is not square-free, a [generalization of Lucas's theorem for prime powers](https://web.archive.org/web/20170202003812/http://www.dms.umontreal.ca/~andrew/PDF/BinCoeff.pdf) can be applied instead of Lucas's theorem."
   ]
  },
  {
   "cell_type": "markdown",
   "metadata": {},
   "source": [
    "## Practice Problems\n",
    "* [Codechef - Number of ways](https://www.codechef.com/LTIME24/problems/NWAYS/)\n",
    "* [Codeforces - Curious Array](http://codeforces.com/problemset/problem/407/C)\n",
    "* [LightOj - Necklaces](http://www.lightoj.com/volume_showproblem.php?problem=1419)\n",
    "* [HACKEREARTH: Binomial Coefficient](https://www.hackerearth.com/problem/algorithm/binomial-coefficient-1/description/)\n",
    "* [SPOJ - Ada and Teams](http://www.spoj.com/problems/ADATEAMS/)\n",
    "* [DevSkill - Drive In Grid](https://devskill.com/CodingProblems/ViewProblem/61)\n",
    "* [SPOJ - Greedy Walking](http://www.spoj.com/problems/UCV2013E/)\n",
    "* [UVa 13214 - The Robot's Grid](https://uva.onlinejudge.org/index.php?option=com_onlinejudge&Itemid=8&page=show_problem&problem=5137)\n",
    "* [SPOJ - Good Predictions](http://www.spoj.com/problems/GOODB/)\n",
    "* [SPOJ - Card Game](http://www.spoj.com/problems/HC12/)\n",
    "* [SPOJ - Topper Rama Rao](http://www.spoj.com/problems/HLP_RAMS/)\n",
    "* [UVa 13184 - Counting Edges and Graphs](https://uva.onlinejudge.org/index.php?option=onlinejudge&page=show_problem&problem=5095)\n",
    "* [Codeforces - Anton and School 2](http://codeforces.com/contest/785/problem/D)\n",
    "* [DevSkill - Parandthesis](https://devskill.com/CodingProblems/ViewProblem/255)\n",
    "* [Codeforces - Bacterial Melee](http://codeforces.com/contest/760/problem/F)\n",
    "* [Codeforces - Points, Lines and Ready-made Titles](http://codeforces.com/contest/872/problem/E)\n",
    "* [SPOJ - The Ultimate Riddle](https://www.spoj.com/problems/DCEPC13D/)\n",
    "* [CodeChef - Long Sandwich](https://www.codechef.com/MAY17/problems/SANDWICH/)\n",
    "\n",
    "## References\n",
    "* [Blog fishi.devtail.io](https://fishi.devtail.io/weblog/2015/06/25/computing-large-binomial-coefficients-modulo-prime-non-prime/)\n",
    "* [Question on Mathematics StackExchange](https://math.stackexchange.com/questions/95491/n-choose-k-bmod-m-using-chinese-remainder-theorem)\n",
    "* [Question on CodeChef Discuss](https://discuss.codechef.com/questions/98129/your-approach-to-solve-sandwich)"
   ]
  }
 ],
 "metadata": {
  "jupytext": {
   "cell_metadata_filter": "-all",
   "main_language": "python",
   "notebook_metadata_filter": "-all"
  },
  "kernelspec": {
   "display_name": "Python 3",
   "language": "python",
   "name": "python3"
  },
  "language_info": {
   "codemirror_mode": {
    "name": "ipython",
    "version": 3
   },
   "file_extension": ".py",
   "mimetype": "text/x-python",
   "name": "python",
   "nbconvert_exporter": "python",
   "pygments_lexer": "ipython3",
   "version": "3.8.5"
  }
 },
 "nbformat": 4,
 "nbformat_minor": 4
}
