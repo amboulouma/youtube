{
 "cells": [
  {
   "cell_type": "markdown",
   "metadata": {},
   "source": [
    "<!--?title Counting labeled graphs -->\n",
    "# Counting labeled graphs\n",
    "\n",
    "## Labeled graphs\n",
    "\n",
    "Let the number of vertices in a graph be $n$.\n",
    "We have to compute the number $G_n$ of labeled graphs with $n$ vertices (labeled means that the vertices are marked with the numbers from $1$ to $n$).\n",
    "The edges of the graphs are considered undirected, and loops and multiple edges are forbidden.\n",
    "\n",
    "We consider the set of all possible edges of the graph.\n",
    "For each edge $(i, j)$ we can assume that $i < j$ (because the graph is undirected, and there are no loops).\n",
    "Therefore the set of all edges has the cardinality $\\binom{n}{2}$, i.e. $\\frac{n(n-1)}{2}$.\n",
    "\n",
    "Since any labeled graph is uniquely determined by its edges, the number of labeled graphs with $n$ vertices is equal to:\n",
    "$$G_n = 2^{\\frac{n(n-1)}{2}}$$\n",
    "\n",
    "## Connected labeled graphs\n",
    "\n",
    "Here, we additionally impose the restriction that the graph has to be connected.\n",
    "\n",
    "Let's denote the required number of connected graphs with $n$ vertices as $C_n$.\n",
    "\n",
    "We will first discuss how many **disconnected** graphs exists.\n",
    "Then the number of connected graphs will be $G_n$ minus the number of disconnected graphs.\n",
    "Even more, we will count the number of **disconnected, rooted graphs**.A rooted graph is a graph, where we emphasize one vertex by labeling it as root.\n",
    "Obviously we have $n$ possibilities to root a graph with $n$ labeled vertices, therefore we will need to divide the number of disconnected rooted graphs by $n$ at the end to get the number of disconnected graphs.\n",
    "\n",
    "The root vertex will appear in a connected component of size $1, \\dots n-1$.\n",
    "There are $k \\binom{n}{k} C_k G_{n-k}$ graphs such that the root vertex is in a connected component with $k$ vertices (there are $\\binom{n}{k}$ ways to choose $k$ vertices for the component, these are connected in one of $C_k$ ways, the root vertex can be any of the $k$ vertices, and the remainder $n-k$ vertices can be connected/disconnected in any way, which gives a factor of $G_{n-k}$).\n",
    "Therefore the number of disconnected graphs with $n$ vertices is:\n",
    "$$\\frac{1}{n} \\sum_{k=1}^{n-1} k \\binom{n}{k} C_k G_{n-k}$$\n",
    "And finally the number of connected graphs is:\n",
    "$$C_n = G_n - \\frac{1}{n} \\sum_{k=1}^{n-1} k \\binom{n}{k} C_k G_{n-k}$$\n",
    "\n",
    "## Labeled graphs with $k$ connected components\n",
    "\n",
    "Based on the formula from the previous section, we will learn how to count the number of labeled graphs with $n$ vertices and $k$ connected components.\n",
    "\n",
    "This number can be computed using dynamic programming.\n",
    "We will compute $D[i][j]$ - the number of labeled graphs with $i$ vertices and $j$ components - for each $i \\le n$ and $j \\le k$.\n",
    "\n",
    "Let's discuss how to compute the next element $D[n][k]$ if we already know the previous values.\n",
    "We use a common approach, we take the last vertex (index $n$).\n",
    "This vertex belongs to some component.\n",
    "If the size of this component be $s$, then there are $\\binom{n-1}{s-1}$ ways to choose such a set of vertices, and $C_s$ ways to connect them.After removing this component from the graph we have $n-s$ remaining vertices with $k-1$ connected components.\n",
    "Therefore we obtain the following recurrence relation:\n",
    "$$D[n][k] = \\sum_{s=1}^{n} \\binom{n-1}{s-1} C_s D[n-s][k-1]$$"
   ]
  }
 ],
 "metadata": {
  "jupytext": {
   "cell_metadata_filter": "-all",
   "main_language": "python",
   "notebook_metadata_filter": "-all"
  }
 },
 "nbformat": 4,
 "nbformat_minor": 4
}
