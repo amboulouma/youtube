{
 "cells": [
  {
   "cell_type": "markdown",
   "metadata": {},
   "source": [
    "# [Amin M. Boulouma Blog](https://amboulouma.com)\n",
    "\n",
    "## Coding Challenges & Algorithms: Finding Power of Factorial Divisor #1\n",
    "\n",
    "- Help the creator channel reach 20k subscribers. He will keep uploading quality content for you: [Amin M. Boulouma Channel](https://www.youtube.com/channel/UCOZbokHO727qeStxeYSKMUQ?sub_confirmation=1)\n",
    "- Those algorithms are best understood following the course: [Python Basics Tutorial](https://youtu.be/ne4Xsoe5Br8)"
   ]
  },
  {
   "cell_type": "markdown",
   "metadata": {},
   "source": [
    "<!--?title Finding Power of Factorial Divisor -->\n",
    "\n",
    "# Finding Power of Factorial Divisor\n",
    "\n",
    "You are given two numbers $n$ and $k$. Find the largest power of $k$ $x$ such that $n!$ is divisible by $k^x$.\n",
    "\n",
    "## Prime $k$\n",
    "\n",
    "Let's first consider the case of prime $k$. The explicit expression for factorial\n",
    "\n",
    "$$n! = 1 \\cdot 2 \\cdot 3 \\ldots (n-1) \\cdot n$$\n",
    "\n",
    "Note that every $k$-th element of the product is divisible by $k$, i.e. adds $+1$ to the answer; the number of such elements is $\\Bigl\\lfloor\\dfrac{n}{k}\\Bigr\\rfloor$.\n",
    "\n",
    "Next, every $k^2$-th element is divisible by $k^2$, i.e. adds another $+1$ to the answer (the first power of $k$ has already been counted in the previous paragraph). The number of such elements is $\\Bigl\\lfloor\\dfrac{n}{k^2}\\Bigr\\rfloor$.\n",
    "\n",
    "And so on, for every $i$ each $k^i$-th element adds another $+1$ to the answer, and there are $\\Bigl\\lfloor\\dfrac{n}{k^i}\\Bigr\\rfloor$ such elements.\n",
    "\n",
    "The final answer is\n",
    "\n",
    "$$\\Bigl\\lfloor\\dfrac{n}{k}\\Bigr\\rfloor + \\Bigl\\lfloor\\dfrac{n}{k^2}\\Bigr\\rfloor + \\ldots + \\Bigl\\lfloor\\dfrac{n}{k^i}\\Bigr\\rfloor + \\ldots$$\n",
    "\n",
    "The sum is of course finite, since only approximately the first $\\log_k n$ elements are not zeros. Thus, the runtime of this algorithm is $O(\\log_k n)$.\n",
    "\n",
    "### Implementation\n",
    "\n",
    "```cpp\n",
    "\n",
    "int fact_pow (int n, int k) {\n",
    "\tint res = 0;\n",
    "\twhile (n) {\n",
    "\t\tn /= k;\n",
    "\t\tres += n;\n",
    "\t}\n",
    "\treturn res;\n",
    "}\n",
    "\n",
    "```"
   ]
  },
  {
   "cell_type": "code",
   "execution_count": 1,
   "metadata": {},
   "outputs": [],
   "source": [
    "def fact_pow(n, l):\n",
    "    res = 0\n",
    "    while n:\n",
    "        n /= k\n",
    "        res += n\n",
    "    return res"
   ]
  },
  {
   "cell_type": "markdown",
   "metadata": {},
   "source": [
    "## Composite $k$\n",
    "\n",
    "The same idea can't be applied directly. Instead we can factor $k$, representing it as $k = k_1^{p_1} \\cdot \\ldots \\cdot k_m^{p_m}$. For each $k_i$, we find the number of times it is present in $n!$ using the algorithm described above - let's call this value $a_i$. The answer for composite $k$ will be\n",
    "\n",
    "$$\\min_ {i=1 \\ldots m} \\dfrac{a_i}{p_i}$$"
   ]
  }
 ],
 "metadata": {
  "jupytext": {
   "cell_metadata_filter": "-all",
   "main_language": "python",
   "notebook_metadata_filter": "-all"
  },
  "kernelspec": {
   "display_name": "Python 3",
   "language": "python",
   "name": "python3"
  },
  "language_info": {
   "codemirror_mode": {
    "name": "ipython",
    "version": 3
   },
   "file_extension": ".py",
   "mimetype": "text/x-python",
   "name": "python",
   "nbconvert_exporter": "python",
   "pygments_lexer": "ipython3",
   "version": "3.8.5"
  }
 },
 "nbformat": 4,
 "nbformat_minor": 4
}
