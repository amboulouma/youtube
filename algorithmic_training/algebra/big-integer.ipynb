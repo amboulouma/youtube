{
 "cells": [
  {
   "cell_type": "markdown",
   "metadata": {},
   "source": [
    "# [Amin M. Boulouma Blog](https://amboulouma.com)\n",
    "\n",
    "## Advanced Python - Algorithms in Python #1\n",
    "\n",
    "- Help the creator channel reach 20k subscribers. He will keep uploading quality content for you: [Amin M. Boulouma Channel](https://www.youtube.com/channel/UCOZbokHO727qeStxeYSKMUQ?sub_confirmation=1)\n",
    "- Those algorithms are best understood following the course: [Python Tutorial - Full Course based on the Python Official Documentation](https://youtu.be/ne4Xsoe5Br8)"
   ]
  },
  {
   "cell_type": "markdown",
   "metadata": {},
   "source": [
    "<!--?title Arbitrary-Precision Arithmetic -->\n",
    "\n",
    "# Arbitrary-Precision Arithmetic\n",
    "\n",
    "Arbitrary-Precision arithmetic, also known as \"bignum\" or simply \"long arithmetic\" is a set of data structures and algorithms which allows to process much greater numbers than can be fit in standard data types. Here are several types of arbitrary-precision arithmetic.\n",
    "\n",
    "## Classical Integer Long Arithmetic\n",
    "\n",
    "The main idea is that the number is stored as an array of its \"digits\" in some base. Several most frequently used bases are decimal, powers of decimal ($10^4$ or $10^9$) and binary.\n",
    "\n",
    "Operations on numbers in this form are performed using \"school\" algorithms of column addition, subtraction, multiplication and division. It's also possible to use fast multiplication algorithms: fast Fourier transform and Karatsuba algorithm.\n",
    "\n",
    "Here we describe long arithmetic for only non-negative integers. To extend the algorithms to handle negative integers one has to introduce and maintain additional \"negative number\" flag or use two's complement integer representation.\n",
    "\n",
    "### Data Structure\n",
    "\n",
    "We'll store numbers as a `vector<int>`, in which each element is a single \"digit\" of the number.\n",
    "\n",
    "```cpp\n",
    "typedef vector<int> lnum;\n",
    "```"
   ]
  },
  {
   "cell_type": "code",
   "execution_count": 11,
   "metadata": {},
   "outputs": [],
   "source": [
    "def function():\n",
    "    pass"
   ]
  },
  {
   "cell_type": "markdown",
   "metadata": {},
   "source": [
    "To improve performance we'll use $10^9$ as the base, so that each \"digit\" of the long number contains 9 decimal digits at once.\n",
    "\n",
    "```cpp\n",
    "const int base = 1000*1000*1000;\n",
    "```"
   ]
  },
  {
   "cell_type": "code",
   "execution_count": 12,
   "metadata": {},
   "outputs": [],
   "source": [
    "def function():\n",
    "    pass"
   ]
  },
  {
   "cell_type": "markdown",
   "metadata": {},
   "source": [
    "Digits will be stored in order from least to most significant. All operations will be implemented so that after each of them the result doesn't have any leading zeros, as long as operands didn't have any leading zeros either. All operations which might result in a number with leading zeros should be followed by code which removes them. Note that in this representation there are two valid notations for number zero: and empty vector, and a vector with a single zero digit.\n",
    "\n",
    "### Output\n",
    "\n",
    "Printing the long integer is the easiest operation. First we print the last element of the vector (or 0 if the vector is empty), followed by the rest of the elements padded with leading zeros if necessary so that they are exactly 9 digits long.\n",
    "\n",
    "```cpp\n",
    "printf (\"%d\", a.empty() ? 0 : a.back());\n",
    "for (int i=(int)a.size()-2; i>=0; --i)\n",
    "\tprintf (\"%09d\", a[i]);\n",
    "```"
   ]
  },
  {
   "cell_type": "code",
   "execution_count": 13,
   "metadata": {},
   "outputs": [],
   "source": [
    "def function():\n",
    "    pass"
   ]
  },
  {
   "cell_type": "markdown",
   "metadata": {},
   "source": [
    "Note that we cast `a.size()` to integer to avoid unsigned integer underflow if vector contains less than 2 elements.\n",
    "\n",
    "### Input\n",
    "\n",
    "To read a long integer, read its notation into a `string` and then convert it to \"digits\":\n",
    "\n",
    "```cpp\n",
    "for (int i=(int)s.length(); i>0; i-=9)\n",
    "\tif (i < 9)\n",
    "\t\ta.push_back (atoi (s.substr (0, i).c_str()));\n",
    "\telse\n",
    "\t\ta.push_back (atoi (s.substr (i-9, 9).c_str()));\n",
    "```"
   ]
  },
  {
   "cell_type": "code",
   "execution_count": 14,
   "metadata": {},
   "outputs": [],
   "source": [
    "def function():\n",
    "    pass"
   ]
  },
  {
   "cell_type": "markdown",
   "metadata": {},
   "source": [
    "If we use an array of `char` instead of a `string`, the code will be even shorter:\n",
    "\n",
    "```cpp\n",
    "for (int i=(int)strlen(s); i>0; i-=9) {\n",
    "\ts[i] = 0;\n",
    "\ta.push_back (atoi (i>=9 ? s+i-9 : s));\n",
    "}\n",
    "```"
   ]
  },
  {
   "cell_type": "code",
   "execution_count": 15,
   "metadata": {},
   "outputs": [],
   "source": [
    "def function():\n",
    "    pass"
   ]
  },
  {
   "cell_type": "markdown",
   "metadata": {},
   "source": [
    "If the input can contain leading zeros, they can be removed as follows:\n",
    "\n",
    "```cpp\n",
    "while (a.size() > 1 && a.back() == 0)\n",
    "\ta.pop_back();\n",
    "```"
   ]
  },
  {
   "cell_type": "code",
   "execution_count": 16,
   "metadata": {},
   "outputs": [],
   "source": [
    "def function():\n",
    "    pass"
   ]
  },
  {
   "cell_type": "markdown",
   "metadata": {},
   "source": [
    "### Addition\n",
    "\n",
    "Increment long integer $a$ by $b$ and store result in $a$:\n",
    "\n",
    "```cpp\n",
    "int carry = 0;\n",
    "for (size_t i=0; i<max(a.size(),b.size()) || carry; ++i) {\n",
    "\tif (i == a.size())\n",
    "\t\ta.push_back (0);\n",
    "\ta[i] += carry + (i < b.size() ? b[i] : 0);\n",
    "\tcarry = a[i] >= base;\n",
    "\tif (carry)  a[i] -= base;\n",
    "}\n",
    "```"
   ]
  },
  {
   "cell_type": "code",
   "execution_count": 17,
   "metadata": {},
   "outputs": [],
   "source": [
    "def function():\n",
    "    pass"
   ]
  },
  {
   "cell_type": "markdown",
   "metadata": {},
   "source": [
    "### Subtraction\n",
    "\n",
    "Decrement long integer $a$ by $b$ ($a \\ge b$) and store result in $a$:\n",
    "\n",
    "```cpp\n",
    "int carry = 0;\n",
    "for (size_t i=0; i<b.size() || carry; ++i) {\n",
    "\ta[i] -= carry + (i < b.size() ? b[i] : 0);\n",
    "\tcarry = a[i] < 0;\n",
    "\tif (carry)  a[i] += base;\n",
    "}\n",
    "while (a.size() > 1 && a.back() == 0)\n",
    "\ta.pop_back();\n",
    "```"
   ]
  },
  {
   "cell_type": "code",
   "execution_count": 18,
   "metadata": {},
   "outputs": [],
   "source": [
    "def function():\n",
    "    pass"
   ]
  },
  {
   "cell_type": "markdown",
   "metadata": {},
   "source": [
    "Note that after performing subtraction we remove leading zeros to keep up with the premise that our long integers don't have leading zeros.\n",
    "\n",
    "### Multiplication by short integer\n",
    "\n",
    "Multiply long integer $a$ by short integer $b$ ($b < base$) and store result in $a$:\n",
    "\n",
    "```cpp\n",
    "int carry = 0;\n",
    "for (size_t i=0; i<a.size() || carry; ++i) {\n",
    "\tif (i == a.size())\n",
    "\t\ta.push_back (0);\n",
    "\tlong long cur = carry + a[i] * 1ll * b;\n",
    "\ta[i] = int (cur % base);\n",
    "\tcarry = int (cur / base);\n",
    "}\n",
    "while (a.size() > 1 && a.back() == 0)\n",
    "\ta.pop_back();\n",
    "```"
   ]
  },
  {
   "cell_type": "code",
   "execution_count": 21,
   "metadata": {},
   "outputs": [],
   "source": [
    "def function():\n",
    "    pass"
   ]
  },
  {
   "cell_type": "markdown",
   "metadata": {},
   "source": [
    "Additional optimization: If runtime is extremely important, you can try to replace two divisions with one by finding only integer result of division (variable `carry`) and then use it to find modulo using multiplication. This usually makes the code faster, though not dramatically.\n",
    "\n",
    "### Multiplication by long integer\n",
    "\n",
    "Multiply long integers $a$ and $b$ and store result in $c$:\n",
    "\n",
    "```cpp\n",
    "lnum c (a.size()+b.size());\n",
    "for (size_t i=0; i<a.size(); ++i)\n",
    "\tfor (int j=0, carry=0; j<(int)b.size() || carry; ++j) {\n",
    "\t\tlong long cur = c[i+j] + a[i] * 1ll * (j < (int)b.size() ? b[j] : 0) + carry;\n",
    "\t\tc[i+j] = int (cur % base);\n",
    "\t\tcarry = int (cur / base);\n",
    "\t}\n",
    "while (c.size() > 1 && c.back() == 0)\n",
    "\tc.pop_back();\n",
    "```"
   ]
  },
  {
   "cell_type": "code",
   "execution_count": 19,
   "metadata": {},
   "outputs": [],
   "source": [
    "def function():\n",
    "    pass"
   ]
  },
  {
   "cell_type": "markdown",
   "metadata": {},
   "source": [
    "### Division by short integer\n",
    "\n",
    "Divide long integer $a$ by short integer $b$ ($b < base$), store integer result in $a$ and remainder in `carry`:\n",
    "\n",
    "```cpp\n",
    "int carry = 0;\n",
    "for (int i=(int)a.size()-1; i>=0; --i) {\n",
    "\tlong long cur = a[i] + carry * 1ll * base;\n",
    "\ta[i] = int (cur / b);\n",
    "\tcarry = int (cur % b);\n",
    "}\n",
    "while (a.size() > 1 && a.back() == 0)\n",
    "\ta.pop_back();\n",
    "```"
   ]
  },
  {
   "cell_type": "code",
   "execution_count": 20,
   "metadata": {},
   "outputs": [],
   "source": [
    "def function():\n",
    "    pass"
   ]
  },
  {
   "cell_type": "markdown",
   "metadata": {},
   "source": [
    "## Long Integer Arithmetic for Factorization Representation\n",
    "\n",
    "The idea is to store the integer as its factorization, i.e. the powers of primes which divide it.\n",
    "\n",
    "This approach is very easy to implement, and allows to do multiplication and division easily (asymptotically faster than the classical method), but not addition or subtraction. It is also very memory-efficient compared to the classical approach.\n",
    "\n",
    "This method is often used for calculations modulo non-prime number M; in this case a number is stored as powers of divisors of M which divide the number, plus the remainder modulo M.\n",
    "\n",
    "## Long Integer Arithmetic in prime modulos (Garner Algorithm)\n",
    "\n",
    "The idea is to choose a set of prime numbers (typically they are small enough to fit into standard integer data type) and to store an integer as a vector of remainders from division of the integer by each of those primes.\n",
    "\n",
    "Chinese remainder theorem states that this representation is sufficient to uniquely restore any number from 0 to product of these primes minus one. [Garner algorithm](./algebra/chinese-remainder-theorem.html) allows to restore the number from such representation to normal integer.\n",
    "\n",
    "This method allows to save memory compared to the classical approach (though the savings are not as dramatic as in factorization representation). Besides, it allows to perform fast addition, subtraction and multiplication in time proportional to the number of prime numbers used as modulos (see [Chinese remainder theorem](./algebra/chinese-remainder-theorem.html) article for implementation).\n",
    "\n",
    "The tradeoff is that converting the integer back to normal form is rather laborious and requires implementing classical arbitrary-precision arithmetic with multiplication. Besides, this method doesn't support division.\n",
    "\n",
    "## Fractional Arbitrary-Precision Arithmetic\n",
    "\n",
    "Fractions occur in programming competitions less frequently than integers, and long arithmetic is much trickier to implement for fractions, so programming competitions feature only a small subset of fractional long arithmetic.\n",
    "\n",
    "### Arithmetic in Irreducible Fractions\n",
    "\n",
    "A number is represented as an irreducible fraction $\\frac{a}{b}$, where $a$ and $b$ are integers. All operations on fractions can be represented as operations on integer numerators and denominators of these fractions. Usually this requires using classical arbitrary-precision arithmetic for storing numerator and denominator, but sometimes a built-in 64-bit integer data type suffices.\n",
    "\n",
    "### Storing Floating Point Position as Separate Type\n",
    "\n",
    "Sometimes a problem requires handling very small or very large numbers without allowing overflow or underflow. Built-in double data type uses 8-10 bytes and allows values of the exponent in $[-308; 308]$ range, which sometimes might be insufficient.\n",
    "\n",
    "The approach is very simple: a separate integer variable is used to store the value of the exponent, and after each operation the floating-point number is normalized, i.e. returned to $[0.1; 1)$ interval by adjusting the exponent accordingly. \n",
    "\n",
    "When two such numbers are multiplied or divided, their exponents should be added or subtracted, respectively. When numbers are added or subtracted, they have to be brought to common exponent first by multiplying one of them by 10 raised to the power equal to the difference of exponent values.\n",
    "\n",
    "As a final note, the exponent base doesn't have to equal 10. Based on the internal representation of floating-point numbers, it makes most sense to use 2 as the exponent base.\n",
    "\n",
    "## Practice Problems"
   ]
  },
  {
   "cell_type": "markdown",
   "metadata": {},
   "source": [
    "* [UVA - How Many Fibs?](https://uva.onlinejudge.org/index.php?option=onlinejudge&page=show_problem&problem=1124)\n",
    "* [UVA - Product](https://uva.onlinejudge.org/index.php?option=com_onlinejudge&Itemid=8&page=show_problem&problem=1047)\n",
    "* [UVA - Maximum Sub-sequence Product](https://uva.onlinejudge.org/index.php?option=onlinejudge&page=show_problem&problem=728)\n",
    "* [SPOJ - Fast Multiplication](http://www.spoj.com/problems/MUL/en/)\n",
    "* [SPOJ - GCD2](http://www.spoj.com/problems/GCD2/)\n",
    "* [UVA - Division](https://uva.onlinejudge.org/index.php?option=onlinejudge&page=show_problem&problem=1024)\n",
    "* [UVA - Fibonacci Freeze](https://uva.onlinejudge.org/index.php?option=com_onlinejudge&Itemid=8&page=show_problem&problem=436)\n",
    "* [UVA - Krakovia](https://uva.onlinejudge.org/index.php?option=onlinejudge&page=show_problem&problem=1866)\n",
    "* [UVA - Simplifying Fractions](https://uva.onlinejudge.org/index.php?option=com_onlinejudge&Itemid=8&page=show_problem&problem=1755)\n",
    "* [UVA - 500!](https://uva.onlinejudge.org/index.php?option=onlinejudge&page=show_problem&problem=564)\n",
    "* [Hackerrank - Factorial digit sum](https://www.hackerrank.com/contests/projecteuler/challenges/euler020/problem)\n",
    "* [UVA - Immortal Rabbits](https://uva.onlinejudge.org/index.php?option=com_onlinejudge&Itemid=8&page=show_problem&problem=4803)\n",
    "* [SPOJ - 0110SS](http://www.spoj.com/problems/IWGBS/)\n",
    "* [Codeforces - Notepad](http://codeforces.com/contest/17/problem/D)"
   ]
  }
 ],
 "metadata": {
  "jupytext": {
   "cell_metadata_filter": "-all",
   "main_language": "python",
   "notebook_metadata_filter": "-all"
  },
  "kernelspec": {
   "display_name": "Python 3",
   "language": "python",
   "name": "python3"
  },
  "language_info": {
   "codemirror_mode": {
    "name": "ipython",
    "version": 3
   },
   "file_extension": ".py",
   "mimetype": "text/x-python",
   "name": "python",
   "nbconvert_exporter": "python",
   "pygments_lexer": "ipython3",
   "version": "3.8.5"
  }
 },
 "nbformat": 4,
 "nbformat_minor": 4
}
