{
 "cells": [
  {
   "cell_type": "markdown",
   "metadata": {},
   "source": [
    "# [Amin M. Boulouma Blog](https://amboulouma.com)\n",
    "\n",
    "## Advanced Python - Algorithms in Python #1\n",
    "\n",
    "- Help the creator channel reach 20k subscribers. He will keep uploading quality content for you: [Amin M. Boulouma Channel](https://www.youtube.com/channel/UCOZbokHO727qeStxeYSKMUQ?sub_confirmation=1)\n",
    "- Those algorithms are best understood following the course: [Python Tutorial - Full Course based on the Python Official Documentation](https://youtu.be/ne4Xsoe5Br8)"
   ]
  },
  {
   "cell_type": "markdown",
   "metadata": {},
   "source": [
    "<!--?title Gray Code-->\n",
    "\n",
    "# Gray code\n",
    "\n",
    "Gray code is a binary numeral system where two successive values differ in only one bit. \n",
    "\n",
    "For example, the sequence of Gray codes for 3-bit numbers is: 000, 001, 011, 010, 110, 111, 101, 100, so $G(4) = 6$.\n",
    "\n",
    "This code was invented by Frank Gray in 1953.\n",
    "\n",
    "## Finding Gray code\n",
    "\n",
    "Let's look at the bits of number $n$ and the bits of number $G(n)$. Notice that $i$-th bit of $G(n)$ equals 1 only when $i$-th bit of $n$ equals 1 and $i + 1$-th bit equals 0 or the other way around ($i$-th bit equals 0 and $i + 1$-th bit equals 1). Thus, $G(n) = n \\oplus (n >> 1)$:  \n",
    "\n",
    "```cpp\n",
    "int g (int n) {\n",
    "    return n ^ (n >> 1);\n",
    "}\n",
    "```\n",
    "\n",
    "## Finding inverse Gray code\n",
    "\n",
    "Given Gray code $g$, restore the original number $n$.\n",
    "\n",
    "We will move from the most significant bits to the least significant ones (the least significant bit has index 1 and the most significant bit has index $k$). The relation between the bits $n_i$ of number $n$ and the bits $g_i$ of number $g$:\n",
    "\n",
    "$$\\begin{align}\n",
    "  n_k &= g_k, \\\\\\\\\n",
    "  n_{k-1} &= g_{k-1} \\oplus n_k = g_k \\oplus g_{k-1}, \\\\\\\\\n",
    "  n_{k-2} &= g_{k-2} \\oplus n_{k-1} = g_k \\oplus g_{k-1} \\oplus g_{k-2}, \\\\\\\\\n",
    "  n_{k-3} &= g_{k-3} \\oplus n_{k-2} = g_k \\oplus g_{k-1} \\oplus g_{k-2} \\oplus g_{k-3}, \\\\\\\\\n",
    "  \\vdots\n",
    "\\end{align}$$\n",
    "\n",
    "The easiest way to write it in code is:\n",
    "\n",
    "```cpp\n",
    "int rev_g (int g) {\n",
    "  int n = 0;\n",
    "  for (; g; g >>= 1)\n",
    "    n ^= g;\n",
    "  return n;\n",
    "}\n",
    "```\n",
    "\n",
    "## Practical applications\n",
    "Gray codes have some useful applications, sometimes quite unexpected:\n",
    "\n",
    "*   Gray code of $n$ bits forms a Hamiltonian cycle on a hypercube, where each bit corresponds to one dimension. \n",
    "\n",
    "*   Gray codes are used to minimize the errors in digital-to-analog signals conversion (for example, in sensors). \n",
    "\n",
    "*   Gray code can be used to solve the Towers of Hanoi problem.\n",
    "    Let $n$ denote number of disks. Start with Gray code of length $n$ which\n",
    "    consists of all zeroes ($G(0)$) and move between consecutive Gray codes (from $G(i)$ to $G(i+1)$).\n",
    "    Let $i$-th bit of current Gray code represent $n$-th disk \n",
    "    (the least significant bit corresponds to the smallest disk and the most significant bit to the biggest disk). \n",
    "    Since exactly one bit changes on each step, we can treat changing $i$-th bit as moving $i$-th disk.\n",
    "    Notice that there is exactly one move option for each disk (except the smallest one) on each step (except start and finish positions).\n",
    "    There are always two move options for the smallest disk but there is a strategy which will always lead to answer:\n",
    "    if $n$ is odd then sequence of the smallest disk moves looks like $f \\to t \\to r \\to f \\to t \\to r \\to ...$\n",
    "    where $f$ is the initial rod, $t$ is the terminal rod and $r$ is the remaining rod), and \n",
    "    if $n$ is even: $f \\to r \\to t \\to f \\to r \\to t \\to ...$.\n",
    "\n",
    "*   Gray codes are also used in genetic algorithms theory."
   ]
  },
  {
   "cell_type": "markdown",
   "metadata": {},
   "source": [
    "## Practice Problems\n",
    "*   <a href=\"http://codeforces.com/problemsets/acmsguru/problem/99999/249\">SGU #249 <b>\"Matrix\"</b> &nbsp;&nbsp;&nbsp;&nbsp; [Difficulty: medium]</a>"
   ]
  }
 ],
 "metadata": {
  "jupytext": {
   "cell_metadata_filter": "-all",
   "main_language": "python",
   "notebook_metadata_filter": "-all"
  },
  "kernelspec": {
   "display_name": "Python 3",
   "language": "python",
   "name": "python3"
  },
  "language_info": {
   "codemirror_mode": {
    "name": "ipython",
    "version": 3
   },
   "file_extension": ".py",
   "mimetype": "text/x-python",
   "name": "python",
   "nbconvert_exporter": "python",
   "pygments_lexer": "ipython3",
   "version": "3.8.5"
  }
 },
 "nbformat": 4,
 "nbformat_minor": 4
}
