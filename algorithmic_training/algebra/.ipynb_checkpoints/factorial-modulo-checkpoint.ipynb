{
 "cells": [
  {
   "cell_type": "markdown",
   "metadata": {},
   "source": [
    "# [Amin M. Boulouma Blog](https://amboulouma.com)\n",
    "\n",
    "## Advanced Python - Algorithms in Python #1\n",
    "\n",
    "- Help the creator channel reach 20k subscribers. He will keep uploading quality content for you: [Amin M. Boulouma Channel](https://www.youtube.com/channel/UCOZbokHO727qeStxeYSKMUQ?sub_confirmation=1)\n",
    "- Those algorithms are best understood following the course: [Python Tutorial - Full Course based on the Python Official Documentation](https://youtu.be/ne4Xsoe5Br8)"
   ]
  },
  {
   "cell_type": "markdown",
   "metadata": {},
   "source": [
    "<!--?title Factorial modulo P -->\n",
    "# Factorial modulo $p$\n",
    "\n",
    "In some cases it is necessary to consider complex formulas modulo some prime $p$, containing factorials in both numerator and denominator, like such that you encounter in the formula for Binomial coefficients.\n",
    "We consider the case when $p$ is relatively small.\n",
    "This problem makes only sense when the factorials appear in both numerator and denominator of fractions.\n",
    "Otherwise $p!$ and subsequent terms will reduce to zero.\n",
    "But in fractions the factors of $p$ can cancel, and the resulting expression will be non-zero modulo $p$.\n",
    "\n",
    "Thus, formally the task is: You want to calculate $n! \\bmod p$, without taking all the multiple factors of $p$ into account that appear in the factorial.\n",
    "Imaging you write down the prime factorization of $n!$, remove all factors $p$, and compute the product modulo $p$.\n",
    "We will denote this *modified* factorial with $n!\\_{\\%p}$.\n",
    "For instance $7!_{\\%p} \\equiv 1 \\cdot 2 \\cdot \\underbrace{1}\\_{3} \\cdot 4 \\cdot 5 \\underbrace{2}\\_{6} \\cdot 7 \\equiv 2 \\bmod 3$.\n",
    "\n",
    "Learning how to effectively calculate this modified factorial allows us to quickly calculate the value of the various combinatorial formulas (for example, [Binomial coefficients](./combinatorics/binomial-coefficients.html)).\n",
    "\n",
    "## Algorithm\n",
    "Let's write this modified factorial explicitly.\n",
    "\n",
    "$$\\begin{eqnarray}\n",
    "n!_{\\%p} &=& 1 \\cdot 2 \\cdot 3 \\cdot \\ldots \\cdot (p-2) \\cdot (p-1) \\cdot \\underbrace{1}\\_{p} \\cdot (p+1) \\cdot (p+2) \\cdot \\ldots \\cdot (2p-1) \\cdot \\underbrace{2}\\_{2p} \\\\\\\n",
    " & &\\quad \\cdot (2p+1) \\cdot \\ldots \\cdot (p^2-1) \\cdot \\underbrace{1}\\_{p^2} \\cdot (p^2 +1) \\cdot \\ldots \\cdot n \\pmod{p} \\\\\\\\\n",
    "&=& 1 \\cdot 2 \\cdot 3 \\cdot \\ldots \\cdot (p-2) \\cdot (p-1) \\cdot \\underbrace{1}\\_{p} \\cdot 2 \\cdot \\ldots \\cdot (p-1) \\cdot \\underbrace{2}\\_{2p} \\cdot 1 \\cdot 2 \\\\\\\n",
    "& &\\quad \\cdot \\ldots \\cdot (p-1) \\cdot \\underbrace{1}\\_{p^2} \\cdot 1 \\cdot 2 \\cdot \\ldots \\cdot (n \\bmod p) \\pmod{p}\n",
    "\\end{eqnarray}$$\n",
    "\n",
    "It can be clearly seen that factorial is divided into several blocks of same length except for the last one.\n",
    "\n",
    "$$\\begin{eqnarray}\n",
    "n!_{\\%p}&=& \\underbrace{1 \\cdot 2 \\cdot 3 \\cdot \\ldots \\cdot (p-2) \\cdot (p-1) \\cdot 1}\\_{1\\text{st}} \\cdot \\underbrace{1 \\cdot 2 \\cdot 3 \\cdot \\ldots \\cdot (p-2) \\cdot (p-1) \\cdot 2}\\_{2\\text{nd}} \\cdot \\ldots \\\\\\\\\n",
    "& & \\cdot \\underbrace{1 \\cdot 2 \\cdot 3 \\cdot \\ldots \\cdot (p-2) \\cdot (p-1) \\cdot 1}\\_{p\\text{th}} \\cdot \\ldots \\cdot \\quad \\underbrace{1 \\cdot 2 \\cdot \\cdot \\ldots \\cdot (n \\bmod p)}\\_{\\text{tail}} \\pmod{p}.\n",
    "\\end{eqnarray}$$\n",
    "\n",
    "The main part of the blocks it is easy to count — it's just $(p-1)!\\ \\mathrm{mod}\\ p$.\n",
    "We can compute that programmatically or just apply Wilson theorem which states that $(p-1)! \\bmod p = -1$ for any prime $p$.\n",
    "\n",
    "We have exactly $\\lfloor \\frac{n}{p} \\rfloor$ such blocks, therefore we need to raise $-1$ to the power of $\\lfloor \\frac{n}{p} \\rfloor$.\n",
    "This can be done in logarithmic time using [Binary Exponentiation](./algebra/binary-exp.html); however you can also notice that the result will switch between $-1$ and $1$, so we only need to look at the parity of the exponent and multiply by $-1$ if the parity is odd.\n",
    "And instead of a multiplication, we can also just subtract the current result from $p$.\n",
    "\n",
    "The value of the last partial block can be calculated separately in $O(p)$."
   ]
  },
  {
   "cell_type": "markdown",
   "metadata": {},
   "source": [
    "This leaves only the last element of each block.\n",
    "If we hide the already handled elements, we can see the following pattern:\n",
    "\n",
    "$$n!_{\\%p} = \\underbrace{ \\ldots \\cdot 1 } \\cdot \\underbrace{ \\ldots \\cdot 2} \\cdot \\ldots \\cdot \\underbrace{ \\ldots \\cdot (p-1)} \\cdot \\underbrace{ \\ldots \\cdot 1 } \\cdot \\underbrace{ \\ldots \\cdot 1} \\cdot \\underbrace{ \\ldots \\cdot 2} \\cdots$$\n",
    "\n",
    "This again is a *modified* factorial, only with a much smaller dimension.\n",
    "It's $\\lfloor n / p \\rfloor !_{\\%p}$.\n",
    "\n",
    "Thus, during the calculation of the *modified* factorial $n\\!_{\\%p}$ we did $O(p)$ operations and are left with the calculation of $\\lfloor n / p \\rfloor !_{\\%p}$.\n",
    "We have a recursive formula.\n",
    "The recursion depth is $O(\\log_p n)$, and therefore the complete asymptotic behavior of the algorithm is $O(p \\log_p n)$.\n",
    "\n",
    "Notice, if you precompute the factorials $0!,~ 1!,~ 2!,~ \\dots,~ (p-1)!$ modulo $p$, then the complexity will just be $O(\\log_p n)$."
   ]
  },
  {
   "cell_type": "markdown",
   "metadata": {},
   "source": [
    "## Implementation\n",
    "\n",
    "We don't need recursion because this is a case of tail recursion and thus can be easily implemented using iteration.\n",
    "In the following implementation we precompute the factorials $0!,~ 1!,~ \\dots,~ (p-1)!$, and thus have the runtime $O(p + \\log_p n)$.\n",
    "If you need to call the function multiple times, then you can do the precomputation outside of the function and do the computation of $n!_{\\%p}$ in $O(\\log_p n)$ time.\n",
    "\n",
    "```cpp\n",
    "int factmod(int n, int p) {\n",
    "    vector<int> f(p);\n",
    "    f[0] = 1;\n",
    "    for (int i = 1; i < p; i++)\n",
    "        f[i] = f[i-1] * i % p;\n",
    "\n",
    "    int res = 1;\n",
    "    while (n > 1) {\n",
    "        if ((n/p) % 2)\n",
    "            res = p - res;\n",
    "        res = res * f[n%p] % p;\n",
    "        n /= p;\n",
    "    }\n",
    "    return res; \n",
    "}\n",
    "```"
   ]
  },
  {
   "cell_type": "code",
   "execution_count": 4,
   "metadata": {},
   "outputs": [],
   "source": [
    "def factmod(n, p):\n",
    "    f = [0] * p\n",
    "    for i in range(p):\n",
    "        f[i] = f[i - 1] * i % p\n",
    "        \n",
    "    res = 1\n",
    "    while n > 1:\n",
    "        if (n / p) % 2:\n",
    "            res = p - res\n",
    "        res = res * f[n % p] % p\n",
    "        n /= p\n",
    "        \n",
    "    return res\n",
    "    "
   ]
  },
  {
   "cell_type": "markdown",
   "metadata": {},
   "source": [
    "Alternative, if you only have limit memory and can't afford storing all factorials, you can also just remember the factorials that you need, sort them, and then compute them in one sweep by computing the factorials $0!,~ 1!,~ 2!,~ \\dots,~ (p-1)!$ in a loop without storing them explicitly.\n",
    "\n",
    "## Multiplicity of $p$\n",
    "\n",
    "If we want to compute a Binomial coefficient modulo $p$, then we additionally need the multiplicity of the $p$ in $n$, i.e. the number of times $p$ occurs in the prime factorization of $n$, or number of times we erased $p$ during the computation of the *modified* factorial.\n",
    "\n",
    "[Legendre's formula](https://en.wikipedia.org/wiki/Legendre%27s_formula) gives us a way to compute this in $O(\\log_p n)$ time.\n",
    "The formula gives the multiplicity $\\nu_p$ as:\n",
    "\n",
    "$$\\nu_p(n!) = \\sum_{i=1}^{\\infty} \\left\\lfloor \\frac{n}{p^i} \\right\\rfloor$$\n",
    "\n",
    "Thus we get the implementation:\n",
    "\n",
    "```cpp\n",
    "int multiplicity_factorial(int n, int p) {\n",
    "    int count = 0;\n",
    "    do {\n",
    "        n /= p;\n",
    "        count += n;\n",
    "    } while (n);\n",
    "    return count;\n",
    "}\n",
    "```"
   ]
  },
  {
   "cell_type": "code",
   "execution_count": 2,
   "metadata": {},
   "outputs": [],
   "source": [
    "def multiplicity_factorial(n, b):\n",
    "    count = 0\n",
    "    while True:\n",
    "        n /= p\n",
    "        count += n\n",
    "        if n: break\n",
    "    return count\n"
   ]
  },
  {
   "cell_type": "markdown",
   "metadata": {},
   "source": [
    "This formula can be proven very easily using the same ideas that we did in the previous sections.\n",
    "Remove all elements that don't contain the factor $p$.\n",
    "This leaves $\\lfloor n/p \\rfloor$ element remaining.\n",
    "If we remove the factor $p$ from each of them, we get the product $1 \\cdot 2 \\cdots \\lfloor n/p \\rfloor = \\lfloor n/p \\rfloor !$, and again we have a recursion."
   ]
  }
 ],
 "metadata": {
  "jupytext": {
   "cell_metadata_filter": "-all",
   "main_language": "python",
   "notebook_metadata_filter": "-all"
  },
  "kernelspec": {
   "display_name": "Python 3",
   "language": "python",
   "name": "python3"
  },
  "language_info": {
   "codemirror_mode": {
    "name": "ipython",
    "version": 3
   },
   "file_extension": ".py",
   "mimetype": "text/x-python",
   "name": "python",
   "nbconvert_exporter": "python",
   "pygments_lexer": "ipython3",
   "version": "3.8.5"
  }
 },
 "nbformat": 4,
 "nbformat_minor": 4
}
