{
 "cells": [
  {
   "cell_type": "markdown",
   "metadata": {},
   "source": [
    "# [Amin M. Boulouma Blog](https://amboulouma.com)\n",
    "\n",
    "## Advanced Python - Algorithms in Python #1\n",
    "\n",
    "- Help the creator channel reach 20k subscribers. He will keep uploading quality content for you: [Amin M. Boulouma Channel](https://www.youtube.com/channel/UCOZbokHO727qeStxeYSKMUQ?sub_confirmation=1)\n",
    "- Those algorithms are best understood following the course: [Python Basics Tutorial](https://youtu.be/ne4Xsoe5Br8)"
   ]
  },
  {
   "cell_type": "markdown",
   "metadata": {},
   "source": [
    "<!--?title Calculating Determinant of Matrix by Gauss -->\n",
    "\n",
    "# Calculating the determinant of a matrix by Gauss\n",
    "\n",
    "Problem: Given a matrix $A$ of size $N x N$. Compute its determinant.\n",
    "\n",
    "## Algorithm\n",
    "\n",
    "We use the ideas of [Gauss method for solving systems of linear equations](./linear_algebra/linear-system-gauss.html)\n",
    "\n",
    "We will perform the same steps as in the solution of systems of linear equations, excluding only the division of the current line to $a_{ij}$. These operations will not change the absolute value of the determinant of the matrix. When we exchange two lines of the matrix, however, the sign of the determinant can change.\n",
    "\n",
    "After applying Gauss on the matrix, we receive a diagonal matrix, whose determinant is just the product of the elements on the diagonal. The sign, as previously mentioned, can be determined by the number of exchanged rows (if odd, then the sign of the determinant should be reversed). Thus, we can use the Gauss algorithm to compute the determinant of the matrix in complexity $O(N^3)$.\n",
    "\n",
    "It should be noted that if at some point, we do not find non-zero cell in current column, the algorithm should stop and returns 0.\n",
    "\n",
    "## Implementation\n",
    "\n",
    "```cpp\n",
    "const double EPS = 1E-9;\n",
    "int n;\n",
    "vector < vector<double> > a (n, vector<double> (n));\n",
    "\n",
    "double det = 1;\n",
    "for (int i=0; i<n; ++i) {\n",
    "\tint k = i;\n",
    "\tfor (int j=i+1; j<n; ++j)\n",
    "\t\tif (abs (a[j][i]) > abs (a[k][i]))\n",
    "\t\t\tk = j;\n",
    "\tif (abs (a[k][i]) < EPS) {\n",
    "\t\tdet = 0;\n",
    "\t\tbreak;\n",
    "\t}\n",
    "\tswap (a[i], a[k]);\n",
    "\tif (i != k)\n",
    "\t\tdet = -det;\n",
    "\tdet *= a[i][i];\n",
    "\tfor (int j=i+1; j<n; ++j)\n",
    "\t\ta[i][j] /= a[i][i];\n",
    "\tfor (int j=0; j<n; ++j)\n",
    "\t\tif (j != i && abs (a[j][i]) > EPS)\n",
    "\t\t\tfor (int k=i+1; k<n; ++k)\n",
    "\t\t\t\ta[j][k] -= a[i][k] * a[j][i];\n",
    "}\n",
    "\n",
    "cout << det;\n",
    "```"
   ]
  },
  {
   "cell_type": "code",
   "execution_count": 2,
   "metadata": {},
   "outputs": [],
   "source": [
    "def function():\n",
    "    pass"
   ]
  },
  {
   "cell_type": "markdown",
   "metadata": {},
   "source": [
    "## Practice Problems\n",
    "* [Codeforces - Wizards and Bets](http://codeforces.com/contest/167/problem/E)"
   ]
  }
 ],
 "metadata": {
  "jupytext": {
   "cell_metadata_filter": "-all",
   "main_language": "python",
   "notebook_metadata_filter": "-all"
  },
  "kernelspec": {
   "display_name": "Python 3",
   "language": "python",
   "name": "python3"
  },
  "language_info": {
   "codemirror_mode": {
    "name": "ipython",
    "version": 3
   },
   "file_extension": ".py",
   "mimetype": "text/x-python",
   "name": "python",
   "nbconvert_exporter": "python",
   "pygments_lexer": "ipython3",
   "version": "3.8.5"
  }
 },
 "nbformat": 4,
 "nbformat_minor": 4
}
