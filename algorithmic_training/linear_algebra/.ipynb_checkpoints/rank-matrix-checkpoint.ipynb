{
 "cells": [
  {
   "cell_type": "markdown",
   "metadata": {},
   "source": [
    "# [Amin M. Boulouma Blog](https://amboulouma.com)\n",
    "\n",
    "## Advanced Python - Algorithms in Python #1\n",
    "\n",
    "- Help the creator channel reach 20k subscribers. He will keep uploading quality content for you: [Amin M. Boulouma Channel](https://www.youtube.com/channel/UCOZbokHO727qeStxeYSKMUQ?sub_confirmation=1)\n",
    "- Those algorithms are best understood following the course: [Python Basics Tutorial](https://youtu.be/ne4Xsoe5Br8)"
   ]
  },
  {
   "cell_type": "markdown",
   "metadata": {},
   "source": [
    "<!--?title Rank of a matrix-->\n",
    "\n",
    "# Finding the rank of a matrix\n",
    "\n",
    "**The rank of a matrix** is the largest number of linearly independent rows/columns of the matrix. The rank is not only defined  for square matrices.\n",
    "\n",
    "The rank of a matrix can also be defined as the largest order of any non-zero minor in the matrix.\n",
    "\n",
    "Let the matrix be rectangular and have size $N \\times M$.\n",
    "Note that if the matrix is square and its determinant is non-zero, then the rank is $N$ ($=M$); otherwise it will be less. Generally, the rank of a matrix does not exceed $\\min (N, M)$.\n",
    "\n",
    "## Algorithm\n",
    "\n",
    "You can search for the rank using [Gaussian elimination](./linear_algebra/linear-system-gauss.html). We will perform the same operations as when solving the system or finding its determinant. But if at any step in the $i$-th column there are no rows with an non-empty entry among those that we didn't selected already, then we skip this step.\n",
    "Otherwise, if we have found a row with a non-zero element in the $i$-th column during the $i$-th step, then we mark this row as a selected one, increase the rank by one (initially the rank is set equal to $0$), and perform the usual operations of taking this row away from the rest.\n",
    "\n",
    "## Complexity\n",
    "\n",
    "This algorithm runs in $\\mathcal{O}(n^3)$.\n",
    "\n",
    "## Implementation\n",
    "\n",
    "```cpp\n",
    "const double EPS = 1E-9;\n",
    "\n",
    "int compute_rank(vector<vector<double>> A) {\n",
    "    int n = A.size();\n",
    "    int m = A[0].size();\n",
    "\n",
    "    int rank = 0;\n",
    "    vector<bool> row_selected(n, false);\n",
    "    for (int i = 0; i < m; ++i) {\n",
    "        int j;\n",
    "        for (j = 0; j < n; ++j) {\n",
    "            if (!row_selected[j] && abs(A[j][i]) > EPS)\n",
    "                break;\n",
    "        }\n",
    "\n",
    "        if (j != n) {\n",
    "            ++rank;\n",
    "            row_selected[j] = true;\n",
    "            for (int p = i + 1; p < m; ++p)\n",
    "                A[j][p] /= A[j][i];\n",
    "            for (int k = 0; k < n; ++k) {\n",
    "                if (k != j && abs(A[k][i]) > EPS) {\n",
    "                    for (int p = i + 1; p < m; ++p)\n",
    "                        A[k][p] -= A[j][p] * A[k][i];\n",
    "                }\n",
    "            }\n",
    "        }\n",
    "    }\n",
    "    return rank;\n",
    "}\n",
    "```"
   ]
  },
  {
   "cell_type": "code",
   "execution_count": 1,
   "metadata": {},
   "outputs": [],
   "source": [
    "def function():\n",
    "    pass"
   ]
  },
  {
   "cell_type": "markdown",
   "metadata": {},
   "source": [
    "## Problems\n",
    " * [TIMUS1041 Nikifor](http://acm.timus.ru/problem.aspx?space=1&num=1041)"
   ]
  }
 ],
 "metadata": {
  "jupytext": {
   "cell_metadata_filter": "-all",
   "main_language": "python",
   "notebook_metadata_filter": "-all"
  },
  "kernelspec": {
   "display_name": "Python 3",
   "language": "python",
   "name": "python3"
  },
  "language_info": {
   "codemirror_mode": {
    "name": "ipython",
    "version": 3
   },
   "file_extension": ".py",
   "mimetype": "text/x-python",
   "name": "python",
   "nbconvert_exporter": "python",
   "pygments_lexer": "ipython3",
   "version": "3.8.5"
  }
 },
 "nbformat": 4,
 "nbformat_minor": 4
}
