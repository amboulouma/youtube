{
 "cells": [
  {
   "cell_type": "markdown",
   "metadata": {},
   "source": [
    "# [Amin M. Boulouma Blog](https://amboulouma.com)\n",
    "\n",
    "## Coding Challenges and Algorithms - Advanced Python Tutorial #1\n",
    "\n",
    "- Help the creator channel reach 20k subscribers. He will keep uploading quality content for you: [Amine M. Boulouma Channel](https://www.youtube.com/channel/UCOZbokHO727qeStxeYSKMUQ?sub_confirmation=1)\n",
    "- Those algorithms are best understood following the course: [Python Basics Tutorial](https://youtu.be/ne4Xsoe5Br8)"
   ]
  },
  {
   "cell_type": "markdown",
   "metadata": {},
   "source": [
    "<!--?title Josephus Problem -->\n",
    "\n",
    "# Josephus Problem\n",
    "\n",
    "## Statement\n",
    "\n",
    "We are given the natural numbers $n$ and $k$.\n",
    "All natural numbers from $1$ to $n$ are written in a circle. \n",
    "First, count the $k$-th number starting from the first one and delete it.\n",
    "Then $k$ numbers are counted starting from the next one and the $k$-th one is removed again, and so on.\n",
    "The process stops when one number remains.\n",
    "It is required to find the last number.\n",
    "\n",
    "This task was set by **Flavius Josephus** in the 1st century (though in a somewhat narrower formulation: for $k = 2$).\n",
    "\n",
    "This problem can be solved by modeling the procedure.\n",
    "Brute force modeling will work $O(n^{2})$. Using a [segment tree](/data_structures/segment_tree.html), we can improve it to $O(n \\log n)$.\n",
    "We want something better though.\n",
    "\n",
    "## Modeling a $O(n)$ solution\n",
    "\n",
    "We will try to find a pattern expressing the answer for the problem $J_{n, k}$ through the solution of the previous problems.\n",
    "\n",
    "Using brute force modeling we can construct a table of values, for example, the following:\n",
    "\n",
    "$$\\begin{array}{ccccccccccc}\n",
    "n\\setminus k & 1 & 2 & 3 & 4 & 5 & 6 & 7 & 8 & 9 & 10 \\\\\\\\\n",
    "1 & 1 & 1 & 1 & 1 & 1 & 1 & 1 & 1 & 1 & 1 \\\\\\\\\n",
    "2 & 2 & 1 & 2 & 1 & 2 & 1 & 2 & 1 & 2 & 1 \\\\\\\\\n",
    "3 & 3 & 3 & 2 & 2 & 1 & 1 & 3 & 3 & 2 & 2 \\\\\\\\\n",
    "4 & 4 & 1 & 1 & 2 & 2 & 3 & 2 & 3 & 3 & 4 \\\\\\\\\n",
    "5 & 5 & 3 & 4 & 1 & 2 & 4 & 4 & 1 & 2 & 4 \\\\\\\\\n",
    "6 & 6 & 5 & 1 & 5 & 1 & 4 & 5 & 3 & 5 & 2 \\\\\\\\\n",
    "7 & 7 & 7 & 4 & 2 & 6 & 3 & 5 & 4 & 7 & 5 \\\\\\\\\n",
    "8 & 8 & 1 & 7 & 6 & 3 & 1 & 4 & 4 & 8 & 7 \\\\\\\\\n",
    "9 & 9 & 3 & 1 & 1 & 8 & 7 & 2 & 3 & 8 & 8 \\\\\\\\\n",
    "10 & 10 & 5 & 4 & 5 & 3 & 3 & 9 & 1 & 7 & 8 \\\\\\\\\n",
    "\\end{array}$$\n",
    "\n",
    "And here we can clearly see the following **pattern**:\n",
    "\n",
    "$$J_ {n, k} = (J _ {(n-1), k} + k - 1) \\ \\bmod n + 1 $$\n",
    "$$J_ {1, k} = 1 $$\n",
    "\n",
    "Here, 1-indexing makes for a somewhat messy formula; if you instead number the positions from 0, you get a very elegant formula:\n",
    "\n",
    "$$J_ {n, k} = (J _ {(n-1), k} + k) \\ \\bmod n$$\n",
    "\n",
    "So, we found a solution to the problem of Josephus, working in $O(n)$ operations.\n",
    "\n",
    "## Implementation\n",
    "\n",
    "Simple **recursive implementation** (in 1-indexing)\n",
    "\n",
    "```cpp\n",
    "int josephus(int n, int k) {\n",
    "    return n > 1 ? (josephus(n-1, k) + k - 1) % n + 1 : 1;\n",
    "}\n",
    "```"
   ]
  },
  {
   "cell_type": "code",
   "execution_count": 1,
   "metadata": {},
   "outputs": [],
   "source": [
    "def function():\n",
    "    pass"
   ]
  },
  {
   "cell_type": "markdown",
   "metadata": {},
   "source": [
    "**Non-recursive form** :\n",
    "\n",
    "```cpp\n",
    "int josephus(int n, int k) {\n",
    "    int res = 0;\n",
    "    for (int i = 1; i <= n; ++i)\n",
    "  \t  res = (res + k) % i;\n",
    "    return res + 1;\n",
    "}\n",
    "```"
   ]
  },
  {
   "cell_type": "code",
   "execution_count": 2,
   "metadata": {},
   "outputs": [],
   "source": [
    "def function():\n",
    "    pass"
   ]
  },
  {
   "cell_type": "markdown",
   "metadata": {},
   "source": [
    "This formula can also be found analytically.\n",
    "Again here we assume 0-indexing.\n",
    "After we delete the first number, we have $n-1$ numbers left.\n",
    "When we repeat the procedure, we will start with the number that had originally the index $k \\bmod m$.\n",
    "$J_{(n-1), k}$ would be the answer for the remaining circle, if we start counting at $0$, but because we actually start with $k$ we have $J_ {n, k} = (J _ {(n-1), k} + k) \\ \\bmod n$.\n",
    "\n",
    "## Modeling a $O(k \\log n)$ solution\n",
    "\n",
    "For relatively small $k$ we can come up with a better solution than the above recursive solution in $O(n)$.\n",
    "If $k$ is a lot smaller than $n$, then we can delete multiple numbers ($\\lfloor \\frac{n}{k} \\rfloor$) in one run without looping over.\n",
    "Afterwards we have $n - \\lfloor \\frac{n}{k} \\rfloor$ numbers left, and we start with the $(\\lfloor \\frac{n}{k} \\rfloor \\cdot n)$-th number.\n",
    "So we have to shift by that many.\n",
    "We can notice that $\\lfloor \\frac{n}{k} \\rfloor \\cdot n$ is simply $n \\bmod k$.\n",
    "And since we removed every $k$-th number, we have to add the number of numbers that we removed before the result index.\n",
    "\n",
    "Also, we need to handle the case when $n$ becomes less than $k$. In this case, the above optimization would cause an infinite loop.\n",
    "\n",
    "**Implementation** (for convenience in 0-indexing):\n",
    "\n",
    "```cpp\n",
    "int josephus(int n, int k) {\n",
    "    if (n == 1)\n",
    "        return 0;\n",
    "    if (k == 1)\n",
    "        return n-1;\n",
    "    if (k > n)\n",
    "        return (josephus(n-1, k) + k) % n;\n",
    "    int cnt = n / k;\n",
    "    int res = josephus(n - cnt, k);\n",
    "    res -= n % k;\n",
    "    if (res < 0)\n",
    "        res += n;\n",
    "    else\n",
    "        res += res / (k - 1);\n",
    "    return res;\n",
    "}\n",
    "```"
   ]
  },
  {
   "cell_type": "code",
   "execution_count": 3,
   "metadata": {},
   "outputs": [],
   "source": [
    "def function():\n",
    "    pass"
   ]
  },
  {
   "cell_type": "markdown",
   "metadata": {},
   "source": [
    "Let us estimate the **complexity** of this algorithm. Immediately note that the case $n < k$ is analyzed by the old solution, which will work in this case for $O(k)$. Now consider the algorithm itself. In fact, after every iteration, instead of $n$ numbers, we are left with $n \\left( 1 - \\frac{1}{k} \\right)$ numbers, so the total number of iterations $x$ of the algorithm can be found roughly from the following equation:\n",
    "\n",
    "$$ n \\left(1 - \\frac{1}{k} \\right) ^ x = 1, $$\n",
    "\n",
    "on taking logarithm on both sides, we obtain:\n",
    "\n",
    "$$\\ln n + x \\ln \\left(1 - \\frac{1}{k} \\right) = 0,$$ \n",
    "$$x = - \\frac{\\ln n}{\\ln \\left(1 - \\frac{1}{k} \\right)},$$\n",
    "\n",
    "using the decomposition of the logarithm into Taylor series, we obtain an approximate estimate:\n",
    "\n",
    "$$x \\approx k \\ln n$$\n",
    "\n",
    "Thus, the complexity of the algorithm is actually $O (k \\log n)$.\n",
    "\n",
    "## Analytical solution for $k = 2$\n",
    "\n",
    "In this particular case (in which this task was set by Josephus Flavius) the problem is solved much easier.\n",
    "\n",
    "In the case of even $n$ we get that all even numbers will be crossed out, and then there will be a problem remaining for $\\frac{n}{2}$, then the answer for $n$ will be obtained from the answer for $\\frac{n}{2}$ by multiplying by two and subtracting one (by shifting positions):\n",
    "\n",
    "$$ J_{2n, 2} = 2 J_{n, 2} - 1 $$\n",
    "\n",
    "Similarly, in the case of an odd $n$, all even numbers will be crossed out, then the first number, and the problem for $\\frac{n-1}{2}$ will remain, and taking into account the shift of positions, we obtain the second formula:\n",
    "\n",
    "$$J_{2n+1,2} = 2 J_{n, 2} + 1 $$\n",
    "\n",
    "We can use this recurrent dependency directly in our implementation. This pattern can be translated into another form: $J_{n, 2}$ represents a sequence of all odd numbers, \"restarting\" from one whenever $n$ turns out to be a power of two. This can be written as a single formula:\n",
    "\n",
    "$$J_{n, 2} = 1 + 2 \\left(n-2^{\\lfloor \\log_2 n \\rfloor} \\right)$$\n",
    "\n",
    "## Analytical solution for $k > 2$\n",
    "\n",
    "Despite the simple form of the problem and a large number of articles on this and related problems, a simple analytical representation of the solution of Josephus' problem has not yet been found. For small $k$, some formulas are derived, but apparently they are all difficult to apply in practice (for example, see Halbeisen, Hungerbuhler \"The Josephus Problem\" and Odlyzko, Wilf \"Functional iteration and the Josephus problem\")."
   ]
  }
 ],
 "metadata": {
  "jupytext": {
   "cell_metadata_filter": "-all",
   "main_language": "python",
   "notebook_metadata_filter": "-all"
  },
  "kernelspec": {
   "display_name": "Python 3",
   "language": "python",
   "name": "python3"
  },
  "language_info": {
   "codemirror_mode": {
    "name": "ipython",
    "version": 3
   },
   "file_extension": ".py",
   "mimetype": "text/x-python",
   "name": "python",
   "nbconvert_exporter": "python",
   "pygments_lexer": "ipython3",
   "version": "3.8.5"
  }
 },
 "nbformat": 4,
 "nbformat_minor": 4
}
