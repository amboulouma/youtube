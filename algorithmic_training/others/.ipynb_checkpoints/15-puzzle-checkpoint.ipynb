{
 "cells": [
  {
   "cell_type": "markdown",
   "metadata": {},
   "source": [
    "# [Amin M. Boulouma Blog](https://amboulouma.com)\n",
    "\n",
    "## Coding Challenges and Algorithms - Advanced Python Tutorial #1\n",
    "\n",
    "- Help the creator channel reach 20k subscribers. He will keep uploading quality content for you: [Amine M. Boulouma Channel](https://www.youtube.com/channel/UCOZbokHO727qeStxeYSKMUQ?sub_confirmation=1)\n",
    "- Those algorithms are best understood following the course: [Python Basics Tutorial](https://youtu.be/ne4Xsoe5Br8)"
   ]
  },
  {
   "cell_type": "markdown",
   "metadata": {},
   "source": [
    "<!--?title 15 Puzzle Game: Existence Of The Solution -->\n",
    "\n",
    "# 15 Puzzle Game: Existence Of The Solution\n",
    "\n",
    "This game is played on a $4 \\times 4$ board. On this board there are $15$ playing tiles numbered from 1 to 15. One cell is left empty (denoted by 0). You need to get the board to the position presented below by repeatedly moving one of the tiles to the free space:\n",
    "\n",
    "$$\\begin{matrix} 1 & 2 & 3 & 4 \\\\\\\\ 5 & 6 & 7 & 8 \\\\\\\\ 9 & 10 & 11 & 12 \\\\\\\\ 13 & 14 & 15 & 0 \\end{matrix}$$\n",
    "\n",
    "The game \"15 Puzzle” was created by Noyes Chapman in 1880.\n",
    "\n",
    "## Existence Of The Solution\n",
    "\n",
    "Let's consider this problem: given a position on the board, determine whether a sequence of moves which leads to a solution exists.\n",
    "\n",
    "Suppose we have some position on the board:\n",
    "\n",
    "$$\\begin{matrix} a_1 & a_2 & a_3 & a_4 \\\\\\\\ a_5 & a_6 & a_7 & a_8 \\\\\\\\ a_9 & a_{10} & a_{11} & a_{12} \\\\\\\\ a_{13} & a_{14} & a_{15} & a_{16} \\end{matrix}$$\n",
    "\n",
    "where one of the elements equals zero and indicates an empty cell $a_z  = 0$\n",
    "\n",
    "Let’s consider the permutation:\n",
    "\n",
    "$$a_1 a_2 ... a_{z-1} a_{z+1} ... a_{15} a_{16}$$\n",
    "\n",
    "i.e. the permutation of numbers corresponding to the position on the board without a zero element\n",
    "\n",
    "Let $N$ be the number of inversions in this permutation (i.e. the number of such elements $a_i$  and $a_j$  that $i < j$, but $a_i  > a_j$).\n",
    "\n",
    "Suppose $K$ is an index of a row where the empty element is located (i.e. using our convention, $K = (z - 1) \\div \\ 4 + 1$).\n",
    "\n",
    "Then, **the solution exists iff $N + K$ is even**.\n",
    "\n",
    "## Implementation\n",
    "\n",
    "The algorithm above can be illustrated with the following program code:\n",
    "\n",
    "```cpp\n",
    "int a[16];\n",
    "for (int i=0; i<16; ++i)\n",
    "    cin >> a[i];\n",
    "\n",
    "int inv = 0;\n",
    "for (int i=0; i<16; ++i)\n",
    "    if (a[i])\n",
    "        for (int j=0; j<i; ++j)\n",
    "            if (a[j] > a[i])\n",
    "                ++inv;\n",
    "for (int i=0; i<16; ++i)\n",
    "    if (a[i] == 0)\n",
    "        inv += 1 + i / 4;\n",
    "\n",
    "puts ((inv & 1) ? \"No Solution\" : \"Solution Exists\");\n",
    "```"
   ]
  },
  {
   "cell_type": "code",
   "execution_count": 2,
   "metadata": {},
   "outputs": [],
   "source": [
    "def function():\n",
    "    pass"
   ]
  },
  {
   "cell_type": "markdown",
   "metadata": {},
   "source": [
    "## Proof\n",
    "\n",
    "In 1879 Johnson proved that if $N + K$ is odd, then the solution doesn’t exist, and in the same year Story proved that all positions when $N + K$ is even have a solution.\n",
    "\n",
    "However, all these proofs were quite complex.\n",
    "\n",
    "In 1999 Archer proposed a much simpler proof (you can download his article [here](http://www.cs.cmu.edu/afs/cs/academic/class/15859-f01/www/notes/15-puzzle.pdf)).\n",
    "\n",
    "## Practice Problems\n",
    "\n",
    "* [Hackerrank - N-puzzle](https://www.hackerrank.com/challenges/n-puzzle)"
   ]
  }
 ],
 "metadata": {
  "jupytext": {
   "cell_metadata_filter": "-all",
   "main_language": "python",
   "notebook_metadata_filter": "-all"
  },
  "kernelspec": {
   "display_name": "Python 3",
   "language": "python",
   "name": "python3"
  },
  "language_info": {
   "codemirror_mode": {
    "name": "ipython",
    "version": 3
   },
   "file_extension": ".py",
   "mimetype": "text/x-python",
   "name": "python",
   "nbconvert_exporter": "python",
   "pygments_lexer": "ipython3",
   "version": "3.8.5"
  }
 },
 "nbformat": 4,
 "nbformat_minor": 4
}
