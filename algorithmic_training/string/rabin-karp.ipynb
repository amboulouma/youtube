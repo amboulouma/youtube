{
 "cells": [
  {
   "cell_type": "markdown",
   "metadata": {},
   "source": [
    "<!--?title Rabin-Karp Algorithm-->\n",
    "\n",
    "# Rabin-Karp Algorithm for string matching\n",
    "\n",
    "This algorithm is based on the concept of hashing, so if you are not familiar with string hashing, refer to the [string hashing](./string/string-hashing.html) article.\n",
    " \n",
    "This algorithm was authored by Rabin and Karp in 1987.\n",
    "\n",
    "Problem: Given two strings - a pattern $s$ and a text $t$, determine if the pattern appears in the text and if it does, enumerate all its occurrences in $O(|s| + |t|)$ time.\n",
    "\n",
    "Algorithm: Calculate the hash for the pattern $s$.\n",
    "Calculate hash values for all the prefixes of the text $t$.\n",
    "Now, we can compare a substring of length $|s|$ with $s$ in constant time using the calculated hashes.\n",
    "So, compare each substring of length $|s|$ with the pattern. This will take a total of $O(|t|)$ time.\n",
    "Hence the final complexity of the algorithm is $O(|t| + |s|)$: $O(|s|)$ is required for calculating the hash of the pattern and $O(|t|)$ for comparing each substring of length $|s|$ with the pattern.\n",
    "\n",
    "## Implementation\n",
    "```cpp rabin_karp\n",
    "vector<int> rabin_karp(string const& s, string const& t) {\n",
    "    const int p = 31; \n",
    "    const int m = 1e9 + 9;\n",
    "    int S = s.size(), T = t.size();\n",
    "\n",
    "    vector<long long> p_pow(max(S, T)); \n",
    "    p_pow[0] = 1; \n",
    "    for (int i = 1; i < (int)p_pow.size(); i++) \n",
    "        p_pow[i] = (p_pow[i-1] * p) % m;\n",
    "\n",
    "    vector<long long> h(T + 1, 0); \n",
    "    for (int i = 0; i < T; i++)\n",
    "        h[i+1] = (h[i] + (t[i] - 'a' + 1) * p_pow[i]) % m; \n",
    "    long long h_s = 0; \n",
    "    for (int i = 0; i < S; i++) \n",
    "        h_s = (h_s + (s[i] - 'a' + 1) * p_pow[i]) % m; \n",
    "\n",
    "    vector<int> occurences;\n",
    "    for (int i = 0; i + S - 1 < T; i++) { \n",
    "        long long cur_h = (h[i+S] + m - h[i]) % m; \n",
    "        if (cur_h == h_s * p_pow[i] % m)\n",
    "            occurences.push_back(i);\n",
    "    }\n",
    "    return occurences;\n",
    "}\n",
    "```\n",
    "\n",
    "## Practice Problems\n",
    "\n",
    "* [SPOJ - Pattern Find](http://www.spoj.com/problems/NAJPF/)\n",
    "* [Codeforces - Good Substrings](http://codeforces.com/problemset/problem/271/D)\n",
    "* [Codeforces - Palindromic characteristics](https://codeforces.com/problemset/problem/835/D)\n"
   ]
  }
 ],
 "metadata": {
  "jupytext": {
   "cell_metadata_filter": "-all",
   "main_language": "python",
   "notebook_metadata_filter": "-all"
  }
 },
 "nbformat": 4,
 "nbformat_minor": 4
}
