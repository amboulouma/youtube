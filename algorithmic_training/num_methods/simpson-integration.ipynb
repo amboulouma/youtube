{
 "cells": [
  {
   "cell_type": "markdown",
   "metadata": {},
   "source": [
    "<!--?title Simpson integration -->\n",
    "\n",
    "# Integration by Simpson's formula\n",
    "\n",
    "We are going to calculate the value of a definite integral\n",
    "\n",
    "$$\\int_a ^ b f (x) dx$$\n",
    "\n",
    "The solution described here was published in one of the dissertations of **Thomas Simpson** in 1743.\n",
    "\n",
    "## Simpson's formula\n",
    "\n",
    "Let $n$ be some natural number. We divide the integration segment $[a, b]$ into $2n$ equal parts:\n",
    "\n",
    "$$x_i = a + i h, ~~ i = 0 \\ldots 2n,$$\n",
    "$$h = \\frac {b-a} {2n}.$$\n",
    "\n",
    "Now we calculate the integral separately on each of the segments $[x_ {2i-2}, x_ {2i}]$, $i = 1 \\ldots n$, and then add all the values.\n",
    "\n",
    "So, suppose we consider the next segment $[x_ {2i-2}, x_ {2i}],  i = 1 \\ldots n$. Replace the function $f(x)$ on it with a parabola $P(x)$ passing through 3 points $(x_ {2i-2}, x_ {2i-1}, x_ {2i})$. Such a parabola always exists and is unique; it can be found analytically.\n",
    "For instance we could construct it using the Lagrange polynomial interpolation.\n",
    "The only remaining thing left to do is to integrate this polynomial.\n",
    "If you do this for a general function $f$, you receive a remarkably simple expression:\n",
    "\n",
    "$$\\int_{x_ {2i-2}} ^ {x_ {2i}} f (x) ~dx \\approx \\int_{x_ {2i-2}} ^ {x_ {2i}} P (x) ~dx = \\left(f(x_{2i-2}) + 4f(x_{2i-1})+(f(x_{2i})\\right)\\frac {h} {3} $$\n",
    "\n",
    "Adding these values over all segments, we obtain the final **Simpson's formula**:\n",
    "\n",
    "$$\\int_a ^ b f (x) dx \\approx \\left(f (x_0) + 4 f (x_1) + 2 f (x_2) + 4f(x_3) + 2 f(x_4) + \\ldots + 4 f(x_{2N-1}) + f(x_{2N}) \\right)\\frac {h} {3} $$\n",
    "\n",
    "## Error\n",
    "The error in approximating an integral by Simpson's formula is\n",
    "\n",
    "$$ -\\tfrac{1}{90} \\left(\\tfrac{b-a}{2}\\right)^5 f^{(4)}(\\xi)$$\n",
    "\n",
    "where $\\xi$ is some number between $a$ and $b$.\n",
    "\n",
    "The error is asymptotically proportional to $(b-a)^5$. However, the above derivations suggest an error proportional to $(b-a)^4$. Simpson's rule gains an extra order because the points at which the integrand is evaluated are distributed symmetrically in the interval $[a, b]$.\n",
    "\n",
    "## Implementation\n",
    "\n",
    "Here, $f(x)$ is some user-defined function.\n",
    "\n",
    "```cpp\n",
    "const int N = 1000 * 1000; // number of steps (already multiplied by 2)\n",
    "\n",
    "double simpson_integration(double a, double b){\n",
    "    double h = (b - a) / N;\n",
    "    double s = f(a) + f(b); // a = x_0 and b = x_2n\n",
    "    for (int i = 1; i <= N - 1; ++i) { // Refer to final Simpson's formula\n",
    "        double x = a + h * i;\n",
    "        s += f(x) * ((i & 1) ? 4 : 2);\n",
    "    }\n",
    "    s *= h / 3;\n",
    "    return s;\n",
    "}\n",
    "```"
   ]
  },
  {
   "cell_type": "markdown",
   "metadata": {},
   "source": [
    "## Practice Problems\n",
    "\n",
    "* [URI - Environment Protection](https://www.urionlinejudge.com.br/judge/en/problems/view/1297)"
   ]
  }
 ],
 "metadata": {
  "jupytext": {
   "cell_metadata_filter": "-all",
   "main_language": "python",
   "notebook_metadata_filter": "-all"
  }
 },
 "nbformat": 4,
 "nbformat_minor": 4
}
