{
 "cells": [
  {
   "cell_type": "markdown",
   "metadata": {},
   "source": [
    "# [Amin M. Boulouma Blog](https://amboulouma.com)\n",
    "\n",
    "## Coding Challenges and Algorithms - Algorithms in Python #1\n",
    "\n",
    "- Help the creator channel reach 20k subscribers. He will keep uploading quality content for you: [Amin M. Boulouma Channel](https://www.youtube.com/channel/UCOZbokHO727qeStxeYSKMUQ?sub_confirmation=1)\n",
    "- Those algorithms are best understood following the course: [Python Basics Tutorial](https://youtu.be/ne4Xsoe5Br8)"
   ]
  },
  {
   "cell_type": "markdown",
   "metadata": {},
   "source": [
    "<!--?title Heavy-light decomposition -->\n",
    "# Heavy-light decomposition\n",
    "\n",
    "**Heavy-light decomposition** is a fairly general technique that allows us to effectively solve many problems that come down to **queries on a tree** ."
   ]
  },
  {
   "cell_type": "markdown",
   "metadata": {},
   "source": [
    "## Description\n",
    "\n",
    "Let there be a tree $G$ of $n$ vertices, with an arbitrary root.\n",
    "\n",
    "The essence of this tree decomposition is to **split the tree into several paths** so that we can reach the root vertex from any $v$ by traversing at most $\\log n$ paths. In addition, none of these paths should intersect with another.\n",
    "\n",
    "It is clear that if we find such a decomposition for any tree, it will allow us to reduce certain single queries of the form *“calculate something on the path from $a$ to $b$”* to several queries of the type *”calculate something on the segment $[l, r]$ of the $k^{th}$ path”*."
   ]
  },
  {
   "cell_type": "markdown",
   "metadata": {},
   "source": [
    "### Construction algorithm\n",
    "\n",
    "We calculate for each vertex $v$ the size of its subtree  $s(v)$, i.e. the number of vertices in the subtree of the vertex $v$ including itself.\n",
    "\n",
    "Next, consider all the edges leading to the children of a vertex $v$. We call an edge  **heavy** if it leads to a vertex $c$ such that:\n",
    "\n",
    "$$\n",
    "s(c) \\ge \\frac{s(v)}{2} \\iff \\text{edge }(v, c)\\text{ is heavy}\n",
    "$$\n",
    "\n",
    "All other edges are labeled **light**.\n",
    "\n",
    "It is obvious that at most one heavy edge can emanate from one vertex downward, because otherwise the vertex $v$ would have at least two children of size $\\ge \\frac{s(v)}{2}$, and therefore the size of subtree of $v$ would be too big, $s(v) \\ge 1 + 2 \\frac{s(v)}{2} > s(v)$, which leads to a contradiction.\n",
    "\n",
    "Now we will decompose the tree into disjoint paths. Consider all the vertices from which no heavy edges come down. We will go up from each such vertex until we reach the root of the tree or go through a light edge. As a result, we will get several paths which are made up of zero or more heavy edges plus one light edge. The path which has an end at the root is an exception to this and will not have a light edge. Let these be called **heavy paths** - these are the desired paths of heavy-light decomposition."
   ]
  },
  {
   "cell_type": "markdown",
   "metadata": {},
   "source": [
    "### Proof of correctness\n",
    "\n",
    "First, we note that the heavy paths obtained by the algorithm will be **disjoint** . In fact, if two such paths have a common edge, it would imply that there are two heavy edges coming out of one vertex, which is impossible.\n",
    "\n",
    "Secondly, we will show that going down from the root of the tree to an arbitrary vertex, we will **change no more than $\\log n$ heavy paths along the way** . Moving down a light edge reduces the size of the current subtree to half or lower:\n",
    "\n",
    "$$\n",
    "s(c) < \\frac{s(v)}{2} \\iff \\text{edge }(v, c)\\text{ is light}\n",
    "$$"
   ]
  },
  {
   "cell_type": "markdown",
   "metadata": {},
   "source": [
    "Thus, we can go through at most $\\log n$ light edges before subtree size reduces to one.\n",
    "\n",
    "Since we can move from one heavy path to another only through a light edge (each heavy path, except the one starting at the root, has one light edge), we cannot change heavy paths more than $\\log n$ times along the path from the root to any vertex, as required."
   ]
  },
  {
   "cell_type": "markdown",
   "metadata": {},
   "source": [
    "The following image illustrates the decomposition of a sample tree. The heavy edges are thicker than the light edges. The heavy paths are marked by dotted boundaries.\n",
    "\n",
    "<center>![Image of HLD](&imgroot&/hld.png)</center>"
   ]
  },
  {
   "cell_type": "markdown",
   "metadata": {},
   "source": [
    "## Sample problems\n",
    "\n",
    "When solving problems, it is sometimes more convenient to consider the heavy-light decomposition as a set of **vertex disjoint** paths (rather than edge disjoint paths). To do this, it suffices to exclude the last edge from each heavy path if it is a light edge, then no properties are violated, but now each vertex belongs to exactly one heavy path.\n",
    "\n",
    "Below we will look at some typical tasks that can be solved with the help of heavy-light decomposition.\n",
    "\n",
    "Separately, it is worth paying attention to the problem of the **sum of numbers on the path**, since this is an example of a problem that can be solved by simpler techniques."
   ]
  },
  {
   "cell_type": "markdown",
   "metadata": {},
   "source": [
    "### Maximum value on the path between two vertices\n",
    "\n",
    "Given a tree, each vertex is assigned a value. There are queries of the form $(a, b)$, where $a$ and $b$ are two vertices in the tree, and it is required to find the maximum value on the path between the vertices $a$ and $b$.\n",
    "\n",
    "We construct in advance a heavy-light decomposition of the tree. Over each heavy path we will construct a [segment tree](./data_structures/segment_tree.html), which will allow us to search for a vertex with the maximum assigned value in the specified segment of the specified heavy path in $\\mathcal{O}(\\log n)$.  Although the number of heavy paths in heavy-light decomposition can reach $n - 1$, the total size of all paths is bounded by $\\mathcal{O}(n)$, therefore the total size of the segment trees will also be linear.\n",
    "\n",
    "In order to answer a query $(a, b)$, we find the [lowest common ancestor](https://en.wikipedia.org/wiki/Lowest_common_ancestor) of $a$ and $b$ as $l$, by any preferred method. Now the task has been reduced to two queries $(a, l)$ and $(b, l)$, for each of which we can do the following: find the heavy path that the lower vertex lies in, make a query on this path, move to the top of this path, again determine which heavy path we are on and make a query on it, and so on, until we get to the path containing $l$.\n",
    "\n",
    "One should be careful with the case when, for example, $a$ and $l$ are on the same heavy path - then the maximum query on this path should be done not on any prefix, but on the internal section between $a$ and $l$.\n",
    "\n",
    "Responding to the subqueries $(a, l)$ and $(b, l)$ each requires going through $\\mathcal{O}(\\log n)$ heavy paths and for each path a maximum query is made on some section of the path, which again requires $\\mathcal{O}(\\log n)$ operations in the segment tree.\n",
    "Hence, one query $(a, b)$ takes $\\mathcal{O}(\\log^2 n)$ time.\n",
    "\n",
    "If you additionally calculate and store maximums of all prefixes for each heavy path, then you get a $\\mathcal{O}(\\log n)$ solution because all maximum queries are on prefixes except at most once when we reach the ancestor $l$."
   ]
  },
  {
   "cell_type": "markdown",
   "metadata": {},
   "source": [
    "###  Sum of the numbers on the path between two vertices\n",
    "\n",
    "Given a tree, each vertex is assigned a value. There are queries of the form $(a, b)$, where $a$ and $b$ are two vertices in the tree, and it is required to find the sum of the values on the path between the vertices $a$ and $b$. A variant of this task is possible where additionally there are update operations that change the number assigned to one or more vertices.\n",
    "\n",
    "This task can be solved similar to the previous problem of maximums with the help of heavy-light decomposition by building segment trees on heavy paths. Prefix sums can be used instead if there are no updates. However, this problem can be solved by simpler techniques too.\n",
    "\n",
    "If there are no updates, then it is possible to find out the sum on the path between two vertices in parallel with the LCA search of two vertices by [binary lifting](./graph/lca_binary_lifting.html) — for this, along with the $2^k$-th ancestors of each vertex it is also necessary to store the sum on the paths up to those ancestors during the preprocessing.\n",
    "\n",
    "There is a fundamentally different approach to this problem - to consider the [Euler tour](https://en.wikipedia.org/wiki/Euler_tour_technique) of the tree, and build a segment tree on it. This algorithm is considered in an [article about a similar problem](./graph/tree_painting.html). Again, if there are no updates, storing prefix sums is enough and a segment tree is not required.\n",
    "\n",
    "Both of these methods provide relatively simple solutions taking $\\mathcal{O}(\\log n)$ for one query.\n",
    "\n",
    "### Repainting the edges of the path between two vertices\n",
    "\n",
    "Given a tree, each edge is initially painted white. There are updates of the form $(a, b, c)$, where $a$ and $b$ are two vertices and $c$ is a color, which instructs that all the edges on the path from $a$ to $b$ must be repainted with color $c$. After all repaintings, it is required to report how many edges of each color were obtained.\n",
    "\n",
    "Similar to the above problems, the solution is to simply apply heavy-light decomposition and make a [segment tree](./data_structures/segment_tree.html) over each heavy path.\n",
    "\n",
    "Each repainting on the path $(a, b)$ will turn into two updates $(a, l)$ and $(b, l)$, where $l$ is the lowest common ancestor of the vertices $a$ and $b$.   \n",
    "$\\mathcal{O}(\\log n)$ per path for $\\mathcal{O}(\\log n)$ paths leads to a complexity of $\\mathcal{O}(\\log^2 n)$ per update.\n",
    "\n",
    "## Implementation\n",
    "\n",
    "Certain parts of the above discussed approach can be modified to make implementation easier without losing efficiency.\n",
    "\n",
    "* The definition of **heavy edge** can be changed to **the edge leading to the child with largest subtree**, with ties broken arbitrarily. This may result is some light edges being converted to heavy, which means some heavy paths will combine to form a single path, but all heavy paths will remain disjoint. It is also still guaranteed that going down a light edge reduces subtree size to half or less.\n",
    "* Instead of a building segment tree over every heavy path, a single segment tree can be used with disjoint segments allocated to each heavy path.\n",
    "* It has been mentioned that answering queries requires calculation of the LCA. While LCA can be calculated separately, it is also possible to integrate LCA calculation in the process of answering queries.\n",
    "\n",
    "To perform heavy-light decomposition:\n",
    "\n",
    "```cpp\n",
    "vector<int> parent, depth, heavy, head, pos;\n",
    "int cur_pos;\n",
    "\n",
    "int dfs(int v, vector<vector<int>> const& adj) {\n",
    "    int size = 1;\n",
    "    int max_c_size = 0;\n",
    "    for (int c : adj[v]) {\n",
    "        if (c != parent[v]) {\n",
    "            parent[c] = v, depth[c] = depth[v] + 1;\n",
    "            int c_size = dfs(c, adj);\n",
    "            size += c_size;\n",
    "            if (c_size > max_c_size)\n",
    "                max_c_size = c_size, heavy[v] = c;\n",
    "        }\n",
    "    }\n",
    "    return size;\n",
    "}\n",
    "\n",
    "void decompose(int v, int h, vector<vector<int>> const& adj) {\n",
    "    head[v] = h, pos[v] = cur_pos++;\n",
    "    if (heavy[v] != -1)\n",
    "        decompose(heavy[v], h, adj);\n",
    "    for (int c : adj[v]) {\n",
    "        if (c != parent[v] && c != heavy[v])\n",
    "            decompose(c, c, adj);\n",
    "    }\n",
    "}\n",
    "\n",
    "void init(vector<vector<int>> const& adj) {\n",
    "    int n = adj.size();\n",
    "    parent = vector<int>(n);\n",
    "    depth = vector<int>(n);\n",
    "    heavy = vector<int>(n, -1);\n",
    "    head = vector<int>(n);\n",
    "    pos = vector<int>(n);\n",
    "    cur_pos = 0;\n",
    "\n",
    "    dfs(0, adj);\n",
    "    decompose(0, 0, adj);\n",
    "}\n",
    "```"
   ]
  },
  {
   "cell_type": "code",
   "execution_count": 1,
   "metadata": {},
   "outputs": [],
   "source": [
    "def function():\n",
    "    pass"
   ]
  },
  {
   "cell_type": "markdown",
   "metadata": {},
   "source": [
    "The adjacency list of the tree must be passed to the `init` function, and decomposition is performed assuming vertex `0` as root.\n",
    "\n",
    "The `dfs` function is used to calculate `heavy[v]`, the child at the other end of the heavy edge from `v`, for every vertex `v`. Additionally `dfs` also stores the parent and depth of each vertex, which will be useful later during queries.\n",
    "\n",
    "The `decompose` function assigns for each vertex `v` the values `head[v]` and `pos[v]`, which are respectively the head of the heavy path `v` belongs to and the position of `v` on the single segment tree that covers all vertices.\n",
    "\n",
    "To answer queries on paths, for example the maximum query discussed, we can do something like this:\n",
    "\n",
    "```cpp\n",
    "int query(int a, int b) {\n",
    "    int res = 0;\n",
    "    for (; head[a] != head[b]; b = parent[head[b]]) {\n",
    "        if (depth[head[a]] > depth[head[b]])\n",
    "            swap(a, b);\n",
    "        int cur_heavy_path_max = segment_tree_query(pos[head[b]], pos[b]);\n",
    "        res = max(res, cur_heavy_path_max);\n",
    "    }\n",
    "    if (depth[a] > depth[b])\n",
    "        swap(a, b);\n",
    "    int last_heavy_path_max = segment_tree_query(pos[a], pos[b]);\n",
    "    res = max(res, last_heavy_path_max);\n",
    "    return res;\n",
    "}\n",
    "```"
   ]
  },
  {
   "cell_type": "code",
   "execution_count": 2,
   "metadata": {},
   "outputs": [],
   "source": [
    "def function():\n",
    "    pass"
   ]
  },
  {
   "cell_type": "markdown",
   "metadata": {},
   "source": [
    "## Practice problems\n",
    "\n",
    "- [SPOJ - QTREE - Query on a tree](https://www.spoj.com/problems/QTREE/)"
   ]
  }
 ],
 "metadata": {
  "jupytext": {
   "cell_metadata_filter": "-all",
   "main_language": "python",
   "notebook_metadata_filter": "-all"
  },
  "kernelspec": {
   "display_name": "Python 3",
   "language": "python",
   "name": "python3"
  },
  "language_info": {
   "codemirror_mode": {
    "name": "ipython",
    "version": 3
   },
   "file_extension": ".py",
   "mimetype": "text/x-python",
   "name": "python",
   "nbconvert_exporter": "python",
   "pygments_lexer": "ipython3",
   "version": "3.8.5"
  }
 },
 "nbformat": 4,
 "nbformat_minor": 4
}
