{
 "cells": [
  {
   "cell_type": "markdown",
   "metadata": {},
   "source": [
    "# [Amin M. Boulouma Blog](https://amboulouma.com)\n",
    "\n",
    "## Coding Challenges and Algorithms - Algorithms in Python #1\n",
    "\n",
    "- Help the creator channel reach 20k subscribers. He will keep uploading quality content for you: [Amin M. Boulouma Channel](https://www.youtube.com/channel/UCOZbokHO727qeStxeYSKMUQ?sub_confirmation=1)\n",
    "- Those algorithms are best understood following the course: [Python Basics Tutorial](https://youtu.be/ne4Xsoe5Br8)"
   ]
  },
  {
   "cell_type": "markdown",
   "metadata": {},
   "source": [
    "<!--?title Solve RMQ by finding LCA -->\n",
    "# Solve RMQ (Range Minimum Query) by finding LCA (Lowest Common Ancestor)\n",
    "\n",
    "Given an array `A[0..N-1]`.\n",
    "For each query of the form `[L, R]` we want to find the minimum in the array `A` starting from position `L` and ending with position `R`.\n",
    "We will assume that the array `A` doesn't change in the process, i.e. this article describes a solution to the static RMQ problem\n",
    "\n",
    "Here is a description of an asymptotically optimal solution.\n",
    "It stands apart from other solutions for the RMQ problem, since it is very different from them:\n",
    "it reduces the RMQ problem to the LCA problem, and then uses the [Farach-Colton and Bender algorithm](./graph/lca_farachcoltonbender.html), which reduces the LCA problem back to a specialized RMQ problem and solves that.\n",
    "\n",
    "## Algorithm\n",
    "\n",
    "We construct a **Cartesian tree** from the array `A`.\n",
    "A Cartesian tree of an array `A` is a binary tree with the min-heap property (the value of parent node has to be smaller or equal than the value of its children) such that the in-order traversal of the tree visits the nodes in the same order as they are in the array `A`.\n",
    "\n",
    "In other words, a Cartesian tree is a recursive data structure.\n",
    "The array `A` will be partitioned into 3 parts: the prefix of the array up to the minimum, the minimum, and the remaining suffix.\n",
    "The root of the tree will be a node corresponding to the minimum element of the array `A`, the left subtree will be the Cartesian tree of the prefix, and the right subtree will be a Cartesian tree of the suffix.\n",
    "\n",
    "In the following image you can see one array of length 10 and the corresponding Cartesian tree.\n",
    "<center>![Image of Cartesian Tree](&imgroot&/CartesianTree.png)</center>\n",
    "\n",
    "The range minimum query `[l, r]` is equivalent to the lowest common ancestor query `[l', r']`, where `l'` is the node corresponding to the element `A[l]` and `r'` the node corresponding to the element `A[r]`.\n",
    "Indeed the node corresponding to the smallest element in the range has to be an ancestor of all nodes in the range, therefor also from `l'` and `r'`.\n",
    "This automatically follows from the min-heap property.\n",
    "And is also has to be the lowest ancestor, because otherwise `l'` and `r'` would be both in the left or in the right subtree, which generates a contradiction since in such a case the minimum wouldn't even be in the range.\n",
    "\n",
    "In the following image you can see the LCA queries for the RMQ queries `[1, 3]` and `[5, 9]`.\n",
    "In the first query the LCA of the nodes `A[1]` and `A[3]` is the node corresponding to `A[2]` which has the value 2, and in the second query the LCA of `A[5]` and `A[9]` is the node corresponding to `A[8]` which has the value 3.\n",
    "<center>![LCA queries in the Cartesian Tree](&imgroot&/CartesianTreeLCA.png)</center>\n",
    "\n",
    "Such a tree can be built in $O(N)$ time and the Farach-Colton and Benders algorithm can preprocess the tree in $O(N)$ and find the LCA in $O(1)$.\n",
    "\n",
    "## Construction of a Cartesian tree\n",
    "\n",
    "We will build the Cartesian tree by adding the elements one after another.\n",
    "In each step we maintain a valid Cartesian tree of all the processed elements.\n",
    "It is easy to see, that adding an element `s[i]` can only change the nodes in the most right path - starting at the root and repeatedly taking the right child - of the tree.\n",
    "The subtree of the node with the smallest, but greater or equal than `s[i]`, value becomes the left subtree of `s[i]`, and the tree with root `s[i]` will become the new right subtree of the node with the biggest, but smaller than `s[i]` value.\n",
    "\n",
    "This can be implemented by using a stack to store the indices of the most right nodes.\n",
    "\n",
    "```cpp\n",
    "vector<int> parent(n, -1);\n",
    "stack<int> s;\n",
    "for (int i = 0; i < n; i++) {\n",
    "    int last = -1;\n",
    "    while (!s.empty() && A[s.top()] >= A[i]) {\n",
    "        last = s.top();\n",
    "        s.pop();\n",
    "    }\n",
    "    if (!s.empty())\n",
    "        parent[i] = s.top();\n",
    "    if (last >= 0)\n",
    "        parent[last] = i;\n",
    "    s.push(i);\n",
    "}\n",
    "```"
   ]
  },
  {
   "cell_type": "code",
   "execution_count": 1,
   "metadata": {},
   "outputs": [],
   "source": [
    "def function():\n",
    "    pass"
   ]
  }
 ],
 "metadata": {
  "jupytext": {
   "cell_metadata_filter": "-all",
   "main_language": "python",
   "notebook_metadata_filter": "-all"
  },
  "kernelspec": {
   "display_name": "Python 3",
   "language": "python",
   "name": "python3"
  },
  "language_info": {
   "codemirror_mode": {
    "name": "ipython",
    "version": 3
   },
   "file_extension": ".py",
   "mimetype": "text/x-python",
   "name": "python",
   "nbconvert_exporter": "python",
   "pygments_lexer": "ipython3",
   "version": "3.8.5"
  }
 },
 "nbformat": 4,
 "nbformat_minor": 4
}
