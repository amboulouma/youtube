{
 "cells": [
  {
   "cell_type": "markdown",
   "metadata": {},
   "source": [
    "# [Amin M. Boulouma Blog](https://amboulouma.com)\n",
    "\n",
    "## Coding Challenges and Algorithms - Algorithms in Python #1\n",
    "\n",
    "- Help the creator channel reach 20k subscribers. He will keep uploading quality content for you: [Amin M. Boulouma Channel](https://www.youtube.com/channel/UCOZbokHO727qeStxeYSKMUQ?sub_confirmation=1)\n",
    "- Those algorithms are best understood following the course: [Python Basics Tutorial](https://youtu.be/ne4Xsoe5Br8)"
   ]
  },
  {
   "cell_type": "markdown",
   "metadata": {},
   "source": [
    "<!--?title Search for connected components in a graph -->\n",
    "\n",
    "# Search for connected components in a graph\n",
    "\n",
    "Given an undirected graph $G$ with $n$ nodes and $m$ edges. We are required to find in it all the connected components, i.e, several groups of vertices such that within a group each vertex can be reached from another and no path exists between different groups.\n",
    "\n",
    "## An algorithm for solving the problem\n",
    "\n",
    "* To solve the problem, we can use Depth First Search or Breadth First Search.\n",
    "\n",
    "* In fact, we will be doing a series of rounds of DFS: The first round will start from first node and all the nodes in the first connected component will be traversed (found). Then we find the first unvisited node of the remaining nodes, and run Depth First Search on it, thus finding a second connected component. And so on, until all the nodes are visited.\n",
    "\n",
    "* The total asymptotic running time of this algorithm is $O(n + m)$ : In fact, this algorithm will not run on the same vertex twice, which means that each edge will be seen exactly two times (at one end and at the other end).\n",
    "\n",
    "## Implementation\n",
    "\n",
    "``` cpp\n",
    "int n;\n",
    "vector<int> g[MAXN] ;\n",
    "bool used[MAXN] ;\n",
    "vector<int> comp ;\n",
    "\n",
    "void dfs(int v) {\n",
    "    used[v] = true ;\n",
    "    comp.push_back(v);\n",
    "    for (size_t i = 0; i < (int) g[v].size(); ++i) {\n",
    "        int to = g[v][i];\n",
    "        if (!used[to])\n",
    "            dfs(to);\n",
    "    }\n",
    "}\n",
    "\n",
    "void find_comps() {\n",
    "    for (int i = 0; i < n ; ++i)\n",
    "        used [i] = false;\n",
    "    for (int i = 0; i < n ; ++i)\n",
    "        if (!used[i]) {\n",
    "            comp.clear();\n",
    "            dfs(i);\n",
    "\t        cout << \"Component:\" ;\n",
    "            for (size_t j = 0; j < comp.size(); ++j)\n",
    "                cout << ' ' << comp[j];\n",
    "            cout << endl ;\n",
    "        }\n",
    "}\n",
    "```\n",
    "\n",
    "* The most important function that is used is `find_comps()` which finds and displays connected components of the graph.\n",
    "\n",
    "* The graph is stored in adjacency list representation, i.e `g[i]` contains a list of vertices that have edges from the vertex `i`. The constant `MAXN` should be set equal to the maximum possible number of vertices in the graph.\n",
    "\n",
    "* Vector `comp` contains a list of nodes in the current connected component.\n",
    "\n",
    "## Practice Problems\n",
    " - [SPOJ: CCOMPS](http://www.spoj.com/problems/CCOMPS/)\n",
    " - [SPOJ: CT23E](http://www.spoj.com/problems/CT23E/)\n",
    " - [CODECHEF: GERALD07](https://www.codechef.com/MARCH14/problems/GERALD07)\n",
    " - [CSES : Building Roads](https://cses.fi/problemset/task/1666)"
   ]
  }
 ],
 "metadata": {
  "jupytext": {
   "cell_metadata_filter": "-all",
   "main_language": "python",
   "notebook_metadata_filter": "-all"
  },
  "kernelspec": {
   "display_name": "Python 3",
   "language": "python",
   "name": "python3"
  },
  "language_info": {
   "codemirror_mode": {
    "name": "ipython",
    "version": 3
   },
   "file_extension": ".py",
   "mimetype": "text/x-python",
   "name": "python",
   "nbconvert_exporter": "python",
   "pygments_lexer": "ipython3",
   "version": "3.8.5"
  }
 },
 "nbformat": 4,
 "nbformat_minor": 4
}
