{
 "cells": [
  {
   "cell_type": "markdown",
   "metadata": {},
   "source": [
    "# [Amin M. Boulouma Blog](https://amboulouma.com)\n",
    "\n",
    "## Coding Challenges and Algorithms - Algorithms in Python #1\n",
    "\n",
    "- Help the creator channel reach 20k subscribers. He will keep uploading quality content for you: [Amin M. Boulouma Channel](https://www.youtube.com/channel/UCOZbokHO727qeStxeYSKMUQ?sub_confirmation=1)\n",
    "- Those algorithms are best understood following the course: [Python Basics Tutorial](https://youtu.be/ne4Xsoe5Br8)"
   ]
  },
  {
   "cell_type": "markdown",
   "metadata": {},
   "source": [
    "<!--?title Check whether a graph is bipartite -->\n",
    "\n",
    "# Check whether a graph is bipartite\n",
    "\n",
    "A bipartite graph is a graph whose vertices can be divided into two disjoint sets so that every edge connects two vertices from different sets (i.e. there are no edges which connect vertices from the same set). These sets are usually called sides.\n",
    "\n",
    "You are given an undirected graph. Check whether it is bipartite, and if it is, output its sides.\n",
    "\n",
    "## Algorithm\n",
    "\n",
    "There exists a theorem which claims that a graph is bipartite if and only if all its cycles have even length. However, in practice it's more convenient to use a different formulation of the definition: a graph is bipartite if and only if it is two-colorable.\n",
    "\n",
    "Let's use a series of [breadth-first searches](./graph/breadth-first-search.html), starting from each vertex which hasn't been visited yet. In each search, assign the vertex from which we start to side 1. Each time we visit a yet unvisited neighbor of a vertex assigned to one side, we assign it to the other side. When we try to go to a neighbor of a vertex assigned to one side which has already been visited, we check that is has been assigned to the other side; if it has been assigned to the same side, we conclude that the graph is not bipartite. Once we've visited all vertices and successfully assigned them to sides, we know that the graph is bipartite and we have constructed its partitioning.\n",
    "\n",
    "## Implementation\n",
    "\n",
    "```cpp\n",
    "int n;\n",
    "vector<vector<int>> adj;\n",
    "\n",
    "vector<int> side(n, -1);\n",
    "bool is_bipartite = true;\n",
    "queue<int> q;\n",
    "for (int st = 0; st < n; ++st) {\n",
    "    if (side[st] == -1) {\n",
    "        q.push(st);\n",
    "        side[st] = 0;\n",
    "        while (!q.empty()) {\n",
    "            int v = q.front();\n",
    "            q.pop();\n",
    "            for (int u : adj[v]) {\n",
    "                if (side[u] == -1) {\n",
    "                    side[u] = side[v] ^ 1;\n",
    "                    q.push(u);\n",
    "                } else {\n",
    "                    is_bipartite &= side[u] != side[v];\n",
    "                }\n",
    "            }\n",
    "        }\n",
    "    }\n",
    "}\n",
    "\n",
    "cout << (is_bipartite ? \"YES\" : \"NO\") << endl;\n",
    "```"
   ]
  },
  {
   "cell_type": "code",
   "execution_count": 1,
   "metadata": {},
   "outputs": [],
   "source": [
    "def function():\n",
    "    pass"
   ]
  },
  {
   "cell_type": "markdown",
   "metadata": {},
   "source": [
    "### Practice problems:\n",
    "\n",
    "- [SPOJ - BUGLIFE](http://www.spoj.com/problems/BUGLIFE/)\n",
    "- [Codeforces - Graph Without Long Directed Paths](https://codeforces.com/contest/1144/problem/F)\n",
    "- [Codeforces - String Coloring (easy version)](https://codeforces.com/contest/1296/problem/E1)\n",
    "- [CSES : Building Teams](https://cses.fi/problemset/task/1668)"
   ]
  }
 ],
 "metadata": {
  "jupytext": {
   "cell_metadata_filter": "-all",
   "main_language": "python",
   "notebook_metadata_filter": "-all"
  },
  "kernelspec": {
   "display_name": "Python 3",
   "language": "python",
   "name": "python3"
  },
  "language_info": {
   "codemirror_mode": {
    "name": "ipython",
    "version": 3
   },
   "file_extension": ".py",
   "mimetype": "text/x-python",
   "name": "python",
   "nbconvert_exporter": "python",
   "pygments_lexer": "ipython3",
   "version": "3.8.5"
  }
 },
 "nbformat": 4,
 "nbformat_minor": 4
}
