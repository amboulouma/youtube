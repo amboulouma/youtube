{
 "cells": [
  {
   "cell_type": "markdown",
   "metadata": {},
   "source": [
    "# [Amin M. Boulouma Blog](https://amboulouma.com)\n",
    "\n",
    "## Coding Challenges and Algorithms - Advanced Python Tutorial #1\n",
    "\n",
    "- Help the creator channel reach 20k subscribers. He will keep uploading quality content for you: [Amine M. Boulouma Channel](https://www.youtube.com/channel/UCOZbokHO727qeStxeYSKMUQ?sub_confirmation=1)\n",
    "- Those algorithms are best understood following the course: [Python Basics Tutorial](https://youtu.be/ne4Xsoe5Br8)"
   ]
  },
  {
   "cell_type": "markdown",
   "metadata": {},
   "source": [
    "<!--?title Range Minimum Query -->\n",
    "\n",
    "# Range Minimum Query\n",
    "\n",
    "You are given an array $A[1..N]$.\n",
    "You have to answer incoming queries of the form $(L, R)$, which ask to find the minimum element in array $A$ between positions $L$ and $R$ inclusive.\n",
    "\n",
    "RMQ can appear in problems directly or can be applied in some other tasks, e.g. the [Lowest Common Ancestor](../graph/lca.html) problem.\n",
    "\n",
    "## Solution\n",
    "\n",
    "There are lots of possible approaches and data structures that you can use to solve the RMQ task.\n",
    "\n",
    "The ones that are explained on this site are listed below.\n",
    "\n",
    "First the approaches that allow modifications to the array between answering queries.\n",
    "\n",
    "- [Sqrt-decomposition](../data_structures/sqrt_decomposition.html) - answers each query in $O(\\sqrt{N})$, preprocessing done in $O(N)$.\n",
    "  Pros: a very simple data structure. Cons: worse complexity.\n",
    "- [Segment tree](../data_structures/segment_tree.html) - answers each query in $O(\\log N)$, preprocessing done in $O(N)$.\n",
    "  Pros: good time complexity. Cons: larger amount of code compared to the other data structures.\n",
    "- [Fenwick tree](../data_structures/fenwick.html) - answers each query in $O(\\log N)$, preprocessing done in $O(N \\log N)$.\n",
    "  Pros: the shortest code, good time complexity. Cons: Fenwick tree can only be used for queries with $L = 1$, so it is not applicable to many problems.\n",
    "\n",
    "And here are the approaches that only work on static arrays, i.e. it is not possible to change a value in the array without recomputing the complete data structure.\n",
    "\n",
    "- [Sparse Table](../data_structures/sparse-table.html) - answers each query in $O(1)$, preprocessing done in $O(N \\log N)$.\n",
    "  Pros: simple data structure, excellent time complexity.\n",
    "- [Sqrt Tree](../data_structures/sqrt-tree.html) - answers queries in $O(1)$, preprocessing done in $O(N \\log \\log N)$. Pros: fast. Cons: Complicated to implement.\n",
    "- [Disjoint Set Union / Arpa's Trick](../data_structures/disjoint_set_union.html#arpa) - answers queries in $O(1)$, preprocessing in $O(n)$. Pros: short, fast. Cons: only works if all queries are known in advance, i.e. only supports off-line processing of the queries.\n",
    "- [Cartesian Tree](../graph/rmq_linear.html) and [Farach-Colton and Bender algorithm](../graph/lca_farachcoltonbender.html) - answers queries in $O(1)$, preprocessing in $O(n)$. Pros: optimal complexity. Cons: large amount of code.\n",
    "\n",
    "Note: Preprocessing is the preliminary processing of the given array by building the corresponding data structure for it.\n",
    "\n",
    "## Practice Problems\n",
    "- [SPOJ: Range Minimum Query](http://www.spoj.com/problems/RMQSQ/)\n",
    "- [CODECHEF: Chef And Array](https://www.codechef.com/problems/FRMQ)\n",
    "- [Codeforces:  Array Partition](https://codeforces.com/contest/1454/problem/F)"
   ]
  }
 ],
 "metadata": {
  "jupytext": {
   "cell_metadata_filter": "-all",
   "main_language": "python",
   "notebook_metadata_filter": "-all"
  },
  "kernelspec": {
   "display_name": "Python 3",
   "language": "python",
   "name": "python3"
  },
  "language_info": {
   "codemirror_mode": {
    "name": "ipython",
    "version": 3
   },
   "file_extension": ".py",
   "mimetype": "text/x-python",
   "name": "python",
   "nbconvert_exporter": "python",
   "pygments_lexer": "ipython3",
   "version": "3.8.5"
  }
 },
 "nbformat": 4,
 "nbformat_minor": 4
}
