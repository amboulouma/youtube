{
 "cells": [
  {
   "cell_type": "markdown",
   "metadata": {},
   "source": [
    "<!--?title Sparse Table-->\n",
    "\n",
    "# Sparse Table\n",
    "\n",
    "Sparse Table is a data structure, that allows answering range queries.\n",
    "It can answer most range queries in $O(\\log n)$, but its true power is answering range minimum queries (or equivalent range maximum queries).\n",
    "For those queries it can compute the answer in $O(1)$ time.\n",
    "\n",
    "The only drawback of this data structure is, that it can only be used on _immutable_ arrays.\n",
    "This means, that the array cannot be changed between two queries.\n",
    "If any element in the array changes, the complete data structure has to be recomputed.\n",
    "\n",
    "## Intuition\n",
    "\n",
    "Any non-negative number can be uniquely represented as a sum of decreasing powers of two.\n",
    "This is just a variant of the binary representation of a number.\n",
    "E.g. $13 = (1101)_2 = 8 + 4 + 1$.\n",
    "For a number $x$ there can be at most $\\lceil \\log_2 x \\rceil$ summands.\n",
    "\n",
    "By the same reasoning any interval can be uniquely represented as a union of intervals with lengths that are decreasing powers of two.\n",
    "E.g. $[2, 14] = [2, 9] \\cup [10, 13] \\cup [14, 14]$, where the complete interval has length 13, and the individual intervals have the lengths 8, 4 and 1 respectably.\n",
    "And also here the union consists of at most $\\lceil \\log_2(\\text{length of interval}) \\rceil$ many intervals.\n",
    "\n",
    "The main idea behind Sparse Tables is to precompute all answers for range queries with power of two length.\n",
    "Afterwards a different range query can be answered by splitting the range into ranges with power of two lengths, looking up the precomputed answers, and combining them to receive a complete answer.\n",
    "\n",
    "## Precomputation\n",
    "\n",
    "We will use a 2-dimensional array for storing the answers to the precomputed queries.\n",
    "$\\text{st}[i][j]$ will store the answer for the range $[i, i + 2^j - 1]$ of length $2^j$.\n",
    "The size of the 2-dimensional array will be $\\text{MAXN} \\times (K + 1)$, where $\\text{MAXN}$ is the biggest possible array length.\n",
    "$\\text{K}$ has to satisfy $\\text{K} \\ge \\lfloor \\log_2 \\text{MAXN} \\rfloor$, because $2^{\\lfloor \\log_2 \\text{MAXN} \\rfloor}$ is the biggest power of two range, that we have to support.\n",
    "For arrays with reasonable length ($\\le 10^7$ elements), $K = 25$ is a good value.\n",
    "\n",
    "```cpp sparsetable_definition\n",
    "int st[MAXN][K + 1];\n",
    "```"
   ]
  },
  {
   "cell_type": "code",
   "execution_count": 1,
   "metadata": {},
   "outputs": [],
   "source": [
    "def function():\n",
    "    pass"
   ]
  },
  {
   "cell_type": "markdown",
   "metadata": {},
   "source": [
    "Because the range $[i, i + 2^j - 1]$ of length $2^j$ splits nicely into the ranges $[i, i + 2^{j - 1} - 1]$ and $[i + 2^{j - 1}, i + 2^j - 1]$, both of length $2^{j - 1}$, we can generate the table efficiently using dynamic programming:\n",
    "\n",
    "```cpp sparsetable_generation\n",
    "for (int i = 0; i < N; i++)\n",
    "    st[i][0] = f(array[i]);\n",
    "\n",
    "for (int j = 1; j <= K; j++)\n",
    "    for (int i = 0; i + (1 << j) <= N; i++)\n",
    "        st[i][j] = f(st[i][j-1], st[i + (1 << (j - 1))][j - 1]);\n",
    "```"
   ]
  },
  {
   "cell_type": "code",
   "execution_count": 2,
   "metadata": {},
   "outputs": [],
   "source": [
    "def function():\n",
    "    pass"
   ]
  },
  {
   "cell_type": "markdown",
   "metadata": {},
   "source": [
    "The function $f$ will depend on the type of query.\n",
    "For range sum queries it will compute the sum, for range minimum queries it will compute the minimum.\n",
    "\n",
    "The time complexity of the precomputation is $O(\\text{N} \\log \\text{N})$.\n",
    "\n",
    "## Range Sum Queries\n",
    "\n",
    "For this type of queries, we want to find the sum of all values in a range.\n",
    "Therefore the natural definition of the function $f$ is $f(x, y) = x + y$.\n",
    "We can construct the data structure with:\n",
    "\n",
    "```cpp sparsetable_sum_generation\n",
    "long long st[MAXN][K + 1];\n",
    "\n",
    "for (int i = 0; i < N; i++)\n",
    "    st[i][0] = array[i];\n",
    "\n",
    "for (int j = 1; j <= K; j++)\n",
    "    for (int i = 0; i + (1 << j) <= N; i++)\n",
    "        st[i][j] = st[i][j-1] + st[i + (1 << (j - 1))][j - 1];\n",
    "```"
   ]
  },
  {
   "cell_type": "code",
   "execution_count": 3,
   "metadata": {},
   "outputs": [],
   "source": [
    "def function():\n",
    "    pass"
   ]
  },
  {
   "cell_type": "markdown",
   "metadata": {},
   "source": [
    "To answer the sum query for the range $[L, R]$, we iterate over all powers of two, starting from the biggest one.\n",
    "As soon as a power of two $2^j$ is smaller or equal to the length of the range ($= R - L + 1$), we process the first the first part of range $[L, L + 2^j - 1]$, and continue with the remaining range $[L + 2^j, R]$.\n",
    "\n",
    "```cpp sparsetable_sum_query\n",
    "long long sum = 0;\n",
    "for (int j = K; j >= 0; j--) {\n",
    "    if ((1 << j) <= R - L + 1) {\n",
    "        sum += st[L][j];\n",
    "        L += 1 << j;\n",
    "    }\n",
    "}\n",
    "```"
   ]
  },
  {
   "cell_type": "code",
   "execution_count": 4,
   "metadata": {},
   "outputs": [],
   "source": [
    "def function():\n",
    "    pass"
   ]
  },
  {
   "cell_type": "markdown",
   "metadata": {},
   "source": [
    "Time complexity for a Range Sum Query is $O(K) = O(\\log \\text{MAXN})$.\n",
    "\n",
    "## Range Minimum Queries (RMQ)\n",
    "\n",
    "These are the queries where the Sparse Table shines.\n",
    "When computing the minimum of a range, it doesn't matter if we process a value in the range once or twice.\n",
    "Therefore instead of splitting a range into multiple ranges, we can also split the range into only two overlapping ranges with power of two length.\n",
    "E.g. we can split the range $[1, 6]$ into the ranges $[1, 4]$ and $[3, 6]$.\n",
    "The range minimum of $[1, 6]$ is clearly the same as the minimum of the range minimum of $[1, 4]$ and the range minimum of $[3, 6]$.\n",
    "So we can compute the minimum of the range $[L, R]$ with:\n",
    "\n",
    "$$\\min(\\text{st}[L][j], \\text{st}[R - 2^j + 1][j]) \\quad \\text{ where } j = \\log_2(R - L + 1)$$\n",
    "\n",
    "This requires that we are able to compute $\\log_2(R - L + 1)$ fast.\n",
    "You can accomplish that by precomputing all logarithms:\n",
    "\n",
    "```cpp sparse_table_log_table\n",
    "int log[MAXN+1];\n",
    "log[1] = 0;\n",
    "for (int i = 2; i <= MAXN; i++)\n",
    "    log[i] = log[i/2] + 1;\n",
    "```"
   ]
  },
  {
   "cell_type": "code",
   "execution_count": 5,
   "metadata": {},
   "outputs": [],
   "source": [
    "def function():\n",
    "    pass"
   ]
  },
  {
   "cell_type": "markdown",
   "metadata": {},
   "source": [
    "Afterwards we need to precompute the Sparse Table structure. This time we define $f$ with $f(x, y) = \\min(x, y)$.\n",
    "\n",
    "```cpp sparse_table_minimum_generation\n",
    "int st[MAXN][K + 1];\n",
    "\n",
    "for (int i = 0; i < N; i++)\n",
    "    st[i][0] = array[i];\n",
    "\n",
    "for (int j = 1; j <= K; j++)\n",
    "    for (int i = 0; i + (1 << j) <= N; i++)\n",
    "        st[i][j] = min(st[i][j-1], st[i + (1 << (j - 1))][j - 1]);\n",
    "```"
   ]
  },
  {
   "cell_type": "code",
   "execution_count": 6,
   "metadata": {},
   "outputs": [],
   "source": [
    "def function():\n",
    "    pass"
   ]
  },
  {
   "cell_type": "markdown",
   "metadata": {},
   "source": [
    "And the minimum of a range $[L, R]$ can be computed with:\n",
    "\n",
    "```cpp sparse_table_minimum_query\n",
    "int j = log[R - L + 1];\n",
    "int minimum = min(st[L][j], st[R - (1 << j) + 1][j]);\n",
    "```"
   ]
  },
  {
   "cell_type": "code",
   "execution_count": 7,
   "metadata": {},
   "outputs": [],
   "source": [
    "def function():\n",
    "    pass"
   ]
  },
  {
   "cell_type": "markdown",
   "metadata": {},
   "source": [
    "Time complexity for a Range Minimum Query is $O(1)$.\n",
    "\n",
    "## Similar data structures supporting more types of queries\n",
    "\n",
    "One of the main weakness of the $O(1)$ approach discussed in the previous section is, that this approach only supports queries of [idempotent functions](https://en.wikipedia.org/wiki/Idempotence).\n",
    "I.e. it works great for range minimum queries, but it is not possible to answer range sum queries using this approach.\n",
    "\n",
    "There are similar data structures that can handle any type of associative functions and answer range queries in $O(1)$.\n",
    "One of them is called is called [Disjoint Sparse Table](https://discuss.codechef.com/questions/117696/tutorial-disjoint-sparse-table).\n",
    "Another one would be the [Sqrt Tree](./data_structures/sqrt-tree.html).\n",
    "\n",
    "## Practice Problems\n",
    "\n",
    "* [SPOJ - RMQSQ](http://www.spoj.com/problems/RMQSQ/)\n",
    "* [SPOJ - THRBL](http://www.spoj.com/problems/THRBL/)\n",
    "* [Codechef - MSTICK](https://www.codechef.com/problems/MSTICK)\n",
    "* [Codechef - SEAD](https://www.codechef.com/problems/SEAD)\n",
    "* [Codeforces - CGCDSSQ](http://codeforces.com/contest/475/problem/D)\n",
    "* [Codeforces - R2D2 and Droid Army](http://codeforces.com/problemset/problem/514/D)\n",
    "* [Codeforces - Maximum of Maximums of Minimums](http://codeforces.com/problemset/problem/872/B)\n",
    "* [SPOJ - Miraculous](http://www.spoj.com/problems/TNVFC1M/)\n",
    "* [DevSkills - Multiplication Interval](https://devskill.com/CodingProblems/ViewProblem/19)\n",
    "* [Codeforces - Animals and Puzzles](http://codeforces.com/contest/713/problem/D)\n",
    "* [Codeforces - Trains and Statistics](http://codeforces.com/contest/675/problem/E)\n",
    "* [SPOJ - Postering](http://www.spoj.com/problems/POSTERIN/)\n",
    "* [SPOJ - Negative Score](http://www.spoj.com/problems/RPLN/)\n",
    "* [SPOJ - A Famous City](http://www.spoj.com/problems/CITY2/)\n",
    "* [SPOJ - Diferencija](http://www.spoj.com/problems/DIFERENC/)\n",
    "* [Codeforces - Turn off the TV](http://codeforces.com/contest/863/problem/E)\n",
    "* [Codeforces - Map](http://codeforces.com/contest/15/problem/D)\n",
    "* [Codeforces - Awards for Contestants](http://codeforces.com/contest/873/problem/E)\n",
    "* [Codeforces - Longest Regular Bracket Sequence](http://codeforces.com/contest/5/problem/C)"
   ]
  }
 ],
 "metadata": {
  "jupytext": {
   "cell_metadata_filter": "-all",
   "main_language": "python",
   "notebook_metadata_filter": "-all"
  },
  "kernelspec": {
   "display_name": "Python 3",
   "language": "python",
   "name": "python3"
  },
  "language_info": {
   "codemirror_mode": {
    "name": "ipython",
    "version": 3
   },
   "file_extension": ".py",
   "mimetype": "text/x-python",
   "name": "python",
   "nbconvert_exporter": "python",
   "pygments_lexer": "ipython3",
   "version": "3.8.5"
  }
 },
 "nbformat": 4,
 "nbformat_minor": 4
}
