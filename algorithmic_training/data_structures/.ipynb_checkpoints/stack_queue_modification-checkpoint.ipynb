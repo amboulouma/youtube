{
 "cells": [
  {
   "cell_type": "markdown",
   "metadata": {},
   "source": [
    "<!--?title Minimum stack / Minimum queue -->\n",
    "\n",
    "# Minimum stack / Minimum queue\n",
    "\n",
    "In this article we will consider three problems: \n",
    "first we will modify a stack in a way that allows us to find the smallest element of the stack in $O(1)$, then we will do the same thing with a queue, and finally we will use these data structures to find the minimum in all subarrays of a fixed length in an array in $O(n)$\n",
    "\n",
    "## Stack modification\n",
    "\n",
    "We want to modify the stack data structure in such a way, that it possible to find the smallest element in the stack in $O(1)$ time, while maintaining the same asymptotic behavior for adding and removing elements from the stack.\n",
    "Quick reminder, on a stack we only add and remove elements on one end.\n",
    "\n",
    "To do this, we will not only store the elements in the stack, but we will store them in pairs: the element itself and the minimum in the stack starting from this element and below.\n",
    "\n",
    "```cpp\n",
    "stack<pair<int, int>> st;\n",
    "```"
   ]
  },
  {
   "cell_type": "code",
   "execution_count": 1,
   "metadata": {},
   "outputs": [],
   "source": [
    "def function():\n",
    "    pass"
   ]
  },
  {
   "cell_type": "markdown",
   "metadata": {},
   "source": [
    "It is clear that finding the minimum in the whole stack consists only of looking at the value `stack.top().second`.\n",
    "\n",
    "It is also obvious that adding or removing a new element to the stack can be done in constant time.\n",
    "\n",
    "Implementation:\n",
    "\n",
    "* Adding an element:\n",
    "```cpp\n",
    "int new_min = st.empty() ? new_elem : min(new_elem, st.top().second);\n",
    "st.push({new_elem, new_min});\n",
    "```"
   ]
  },
  {
   "cell_type": "code",
   "execution_count": 2,
   "metadata": {},
   "outputs": [],
   "source": [
    "def function():\n",
    "    pass"
   ]
  },
  {
   "cell_type": "markdown",
   "metadata": {},
   "source": [
    "* Removing an element:\n",
    "```cpp\n",
    "int removed_element = st.top().first;\n",
    "st.pop();\n",
    "```"
   ]
  },
  {
   "cell_type": "code",
   "execution_count": 3,
   "metadata": {},
   "outputs": [],
   "source": [
    "def function():\n",
    "    pass"
   ]
  },
  {
   "cell_type": "markdown",
   "metadata": {},
   "source": [
    "* Finding the minimum:\n",
    "```cpp\n",
    "int minimum = st.top().second;\n",
    "```"
   ]
  },
  {
   "cell_type": "code",
   "execution_count": 4,
   "metadata": {},
   "outputs": [],
   "source": [
    "def function():\n",
    "    pass"
   ]
  },
  {
   "cell_type": "markdown",
   "metadata": {},
   "source": [
    "## Queue modification (method 1)\n",
    "\n",
    "Now we want to achieve the same operations with a queue, i.e. we want to add elements at the end and remove them from the front.\n",
    "\n",
    "Here we consider a simple method for modifying a queue.\n",
    "It has a big disadvantage though, because the modified queue will actually not store all elements.\n",
    "\n",
    "The key idea is to only store the items in the queue that are needed to determine the minimum.\n",
    "Namely we will keep the queue in nondecreasing order (i.e. the smallest value will be stored in the head), and of course not in any arbitrary way, the actual minimum has to be always contained in the queue.\n",
    "This way the smallest element will always be in the head of the queue.\n",
    "Before adding a new element to the queue, it is enough to make a \"cut\":\n",
    "we will remove all trailing elements of the queue that are larger than the new element, and afterwards add the new element to the queue. \n",
    "This way we don't break the order of the queue, and we will also not loose the current element if it is at any subsequent step the minimum. \n",
    "All the elements that we removed can never be a minimum itself, so this operation is allowed.\n",
    "When we want to extract an element from the head, it actually might not be there (because we removed it previously while adding a smaller element). \n",
    "Therefore when deleting an element from a queue we need to know the value of the element.\n",
    "If the head of the queue has the same value, we can safely remove it, otherwise we do nothing.\n",
    "\n",
    "Consider the implementations of the above operations:\n",
    "\n",
    "```cpp\n",
    "deque<int> q;\n",
    "```"
   ]
  },
  {
   "cell_type": "code",
   "execution_count": 5,
   "metadata": {},
   "outputs": [],
   "source": [
    "def function():\n",
    "    pass"
   ]
  },
  {
   "cell_type": "markdown",
   "metadata": {},
   "source": [
    "* Finding the minimum:\n",
    "```cpp\n",
    "int minimum = q.front();\n",
    "```"
   ]
  },
  {
   "cell_type": "code",
   "execution_count": 6,
   "metadata": {},
   "outputs": [],
   "source": [
    "def function():\n",
    "    pass"
   ]
  },
  {
   "cell_type": "markdown",
   "metadata": {},
   "source": [
    "* Adding an element:\n",
    "```cpp\n",
    "while (!q.empty() && q.back() > new_element)\n",
    "    q.pop_back();\n",
    "q.push_back(new_element);\n",
    "```"
   ]
  },
  {
   "cell_type": "code",
   "execution_count": 7,
   "metadata": {},
   "outputs": [],
   "source": [
    "def function():\n",
    "    pass"
   ]
  },
  {
   "cell_type": "markdown",
   "metadata": {},
   "source": [
    "* Removing an element:\n",
    "```cpp\n",
    "if (!q.empty() && q.front() == remove_element)\n",
    "    q.pop_front();\n",
    "```"
   ]
  },
  {
   "cell_type": "code",
   "execution_count": 8,
   "metadata": {},
   "outputs": [],
   "source": [
    "def function():\n",
    "    pass"
   ]
  },
  {
   "cell_type": "markdown",
   "metadata": {},
   "source": [
    "It is clear that on average all these operation only take $O(1)$ time (because every element can only be pushed and popped once).\n",
    "\n",
    "## Queue modification (method 2)\n",
    "\n",
    "This is a modification of method 1.\n",
    "We want to be able to remove elements without knowing which element we have to remove.\n",
    "We can accomplish that by storing the index for each element in the queue.\n",
    "And we also remember how many elements we already have added and removed.\n",
    "\n",
    "```cpp\n",
    "deque<pair<int, int>> q;\n",
    "int cnt_added = 0;\n",
    "int cnt_removed = 0;\n",
    "```"
   ]
  },
  {
   "cell_type": "code",
   "execution_count": 9,
   "metadata": {},
   "outputs": [],
   "source": [
    "def function():\n",
    "    pass"
   ]
  },
  {
   "cell_type": "markdown",
   "metadata": {},
   "source": [
    "* Finding the minimum:\n",
    "```cpp\n",
    "int minimum = q.front().first;\n",
    "```"
   ]
  },
  {
   "cell_type": "code",
   "execution_count": 10,
   "metadata": {},
   "outputs": [],
   "source": [
    "def function():\n",
    "    pass"
   ]
  },
  {
   "cell_type": "markdown",
   "metadata": {},
   "source": [
    "* Adding an element:\n",
    "```cpp\n",
    "while (!q.empty() && q.back().first > new_element)\n",
    "    q.pop_back();\n",
    "q.push_back({new_element, cnt_added});\n",
    "cnt_added++;\n",
    "```"
   ]
  },
  {
   "cell_type": "code",
   "execution_count": 11,
   "metadata": {},
   "outputs": [],
   "source": [
    "def function():\n",
    "    pass"
   ]
  },
  {
   "cell_type": "markdown",
   "metadata": {},
   "source": [
    "* Removing an element:\n",
    "```cpp\n",
    "if (!q.empty() && q.front().second == cnt_removed) \n",
    "    q.pop_front();\n",
    "cnt_removed++;\n",
    "```"
   ]
  },
  {
   "cell_type": "code",
   "execution_count": 12,
   "metadata": {},
   "outputs": [],
   "source": [
    "def function():\n",
    "    pass"
   ]
  },
  {
   "cell_type": "markdown",
   "metadata": {},
   "source": [
    "## Queue modification (method 3)\n",
    "\n",
    "Here we consider another way of modifying a queue to find the minimum in $O(1)$.\n",
    "This way is somewhat more complicated to implement, but this time we actually store all elements.\n",
    "And we also can remove an element from the front without knowing its value.\n",
    "\n",
    "The idea is to reduce the problem to the problem of stacks, which was already solved by us.\n",
    "So we only need to learn how to simulate a queue using two stacks.\n",
    "\n",
    "We make two stacks, `s1` and `s2`. \n",
    "Of course these stack will be of the modified form, so that we can find the minimum in $O(1)$. \n",
    "We will add new elements to the stack `s1`, and remove elements from the stack `s2`.\n",
    "If at any time the stack `s2` is empty, we move all elements from `s1` to `s2` (which essentially reverses the order of those elements).\n",
    "Finally finding the minimum in a queue involves just finding the minimum of both stacks.\n",
    "\n",
    "Thus we perform all operations in $O(1)$ on average (each element will be once added to stack `s1`, once transferred to `s2`, and once popped from `s2`)\n",
    "\n",
    "Implementation:\n",
    "\n",
    "```cpp\n",
    "stack<pair<int, int>> s1, s2;\n",
    "```"
   ]
  },
  {
   "cell_type": "code",
   "execution_count": 13,
   "metadata": {},
   "outputs": [],
   "source": [
    "def function():\n",
    "    pass"
   ]
  },
  {
   "cell_type": "markdown",
   "metadata": {},
   "source": [
    "* Finding the minimum:\n",
    "```cpp\n",
    "if (s1.empty() || s2.empty()) \n",
    "    minimum = s1.empty() ? s2.top().second : s1.top().second;\n",
    "else\n",
    "    minimum = min(s1.top().second, s2.top().second);\n",
    "```"
   ]
  },
  {
   "cell_type": "code",
   "execution_count": 14,
   "metadata": {},
   "outputs": [],
   "source": [
    "def function():\n",
    "    pass"
   ]
  },
  {
   "cell_type": "markdown",
   "metadata": {},
   "source": [
    "* Add element:\n",
    "```cpp\n",
    "int minimum = s1.empty() ? new_element : min(new_element, s1.top().second);\n",
    "s1.push({new_element, minimum});\n",
    "```"
   ]
  },
  {
   "cell_type": "code",
   "execution_count": 15,
   "metadata": {},
   "outputs": [],
   "source": [
    "def function():\n",
    "    pass"
   ]
  },
  {
   "cell_type": "markdown",
   "metadata": {},
   "source": [
    "* Removing an element:\n",
    "```cpp\n",
    "if (s2.empty()) {\n",
    "    while (!s1.empty()) {\n",
    "        int element = s1.top().first;\n",
    "        s1.pop();\n",
    "        int minimum = s2.empty() ? element : min(element, s2.top().second);\n",
    "        s2.push({element, minimum});\n",
    "    }\n",
    "}\n",
    "int remove_element = s2.top().first;\n",
    "s2.pop();\n",
    "```"
   ]
  },
  {
   "cell_type": "code",
   "execution_count": 16,
   "metadata": {},
   "outputs": [],
   "source": [
    "def function():\n",
    "    pass"
   ]
  },
  {
   "cell_type": "markdown",
   "metadata": {},
   "source": [
    "## Finding the minimum for all subarrays of fixed length\n",
    "\n",
    "Suppose we are given an array $A$ of length $N$ and a given $M \\le N$.\n",
    "We have to find the minimum of each subarray of length $M$ in this array, i.e. we have to find:\n",
    "$$\\min_{0 \\le i \\le M-1} A[i], \\min_{1 \\le i \\le M} A[i], \\min_{2 \\le i \\le M+1} A[i],~\\dots~, \\min_{N-M \\le i \\le N-1} A[i]$$\n",
    "\n",
    "We have to solve this problem in linear time, i.e. $O(n)$.\n",
    "\n",
    "We can use any of the three modified queues to solve the problem.\n",
    "The solutions should be clear:\n",
    "we add the first $M$ element of the array, find and output its minimum, then add the next element to the queue and remove the first element of the array, find and output its minimum, etc. \n",
    "Since all operations with the queue are performed in constant time on average, the complexity of the whole algorithm will be $O(n)$.\n",
    "\n",
    "## Practice Problems\n",
    "* [Queries with Fixed Length](https://www.hackerrank.com/challenges/queries-with-fixed-length/problem)\n",
    "* [Binary Land](https://www.codechef.com/MAY20A/problems/BINLAND)"
   ]
  }
 ],
 "metadata": {
  "jupytext": {
   "cell_metadata_filter": "-all",
   "main_language": "python",
   "notebook_metadata_filter": "-all"
  },
  "kernelspec": {
   "display_name": "Python 3",
   "language": "python",
   "name": "python3"
  },
  "language_info": {
   "codemirror_mode": {
    "name": "ipython",
    "version": 3
   },
   "file_extension": ".py",
   "mimetype": "text/x-python",
   "name": "python",
   "nbconvert_exporter": "python",
   "pygments_lexer": "ipython3",
   "version": "3.8.5"
  }
 },
 "nbformat": 4,
 "nbformat_minor": 4
}
